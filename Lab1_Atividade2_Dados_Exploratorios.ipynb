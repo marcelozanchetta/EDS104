{
  "nbformat": 4,
  "nbformat_minor": 0,
  "metadata": {
    "colab": {
      "provenance": [],
      "authorship_tag": "ABX9TyMjHX2VhDU6/6Nc0TebXPDp",
      "include_colab_link": true
    },
    "kernelspec": {
      "name": "python3",
      "display_name": "Python 3"
    },
    "language_info": {
      "name": "python"
    }
  },
  "cells": [
    {
      "cell_type": "markdown",
      "metadata": {
        "id": "view-in-github",
        "colab_type": "text"
      },
      "source": [
        "<a href=\"https://colab.research.google.com/github/marcelozanchetta/EDS104/blob/main/Lab1_Atividade2_Dados_Exploratorios.ipynb\" target=\"_parent\"><img src=\"https://colab.research.google.com/assets/colab-badge.svg\" alt=\"Open In Colab\"/></a>"
      ]
    },
    {
      "cell_type": "markdown",
      "source": [
        "# **Laboratório 1 - Atividade 2**\n",
        "\n",
        "\n"
      ],
      "metadata": {
        "id": "hC8Y-H_uiGHp"
      }
    },
    {
      "cell_type": "markdown",
      "source": [
        "Esse laboratório traz as principais características da Linguagem Python para realização de operações com dados."
      ],
      "metadata": {
        "id": "WvdSGB4Ch3bU"
      }
    },
    {
      "cell_type": "markdown",
      "source": [
        "# **Manipulação de Dados**"
      ],
      "metadata": {
        "id": "8TTd5pTYV3GH"
      }
    },
    {
      "cell_type": "markdown",
      "source": [
        " **Tipos de Dados**\n",
        "\n",
        "A biblioteca padrão do Python oferece suporte a vários tipos de dados elementares, incluindo números inteiros, booleanos, pontos flutuantes e cadeias de caracteres. Os tipos de dados mais comuns são mostrados"
      ],
      "metadata": {
        "id": "MVdJWqAbWK-c"
      }
    },
    {
      "cell_type": "code",
      "source": [
        "x = 4              # inteiro\n",
        "print(x, type(x))\n",
        "y = True           # boleano(True, False)\n",
        "print(y, type(y))\n",
        "z = 3.7            # ponto flutuante\n",
        "print(z, type(z))\n",
        "s = \"This is a string\"    # cadeia de caracteres\n",
        "print(s, type(s))"
      ],
      "metadata": {
        "colab": {
          "base_uri": "https://localhost:8080/"
        },
        "id": "E_V4JI6kWPBI",
        "outputId": "55ada8b7-fbf6-495a-a7b1-989c889af9ec"
      },
      "execution_count": null,
      "outputs": [
        {
          "output_type": "stream",
          "name": "stdout",
          "text": [
            "4 <class 'int'>\n",
            "True <class 'bool'>\n",
            "3.7 <class 'float'>\n",
            "This is a string <class 'str'>\n"
          ]
        }
      ]
    },
    {
      "cell_type": "markdown",
      "source": [
        "**Operações aritméticas**\n",
        "\n",
        "Operações disponíveis para manipular números inteiros e números de ponto flutuante."
      ],
      "metadata": {
        "id": "EbN0I7yrV-Mt"
      }
    },
    {
      "cell_type": "code",
      "source": [
        "x = 4            # inteiro\n",
        "x1 = x + 4       # adição\n",
        "x2 = x * 3       # multiplicação\n",
        "x += 2           # equivalente a x = x + 2\n",
        "x3 = x\n",
        "x *= 3           # equivalente a x = x * 3\n",
        "x4 = x\n",
        "x5 = x % 4       # operador modulo\n",
        "\n",
        "z = 3.7          # numero ponto flutuante\n",
        "z1 = z - 2       # subtração\n",
        "z2 = z / 3       # divisão\n",
        "z3 = z // 3      # divisão de inteiros\n",
        "z4 = z ** 2      # elevado ao quadrado\n",
        "z5 = z4 ** 0.5   # raiz quadrada\n",
        "z6 = pow(z,2)    # equivalente a raiz de z\n",
        "z7 = round(z)    # arredondar z para seu inteiro mais próximo\n",
        "z8 = int(z)      # type casting float para int\n",
        "\n",
        "print(x,x1,x2,x3,x4,x5)\n",
        "print(z,z1,z2,z3,z4)\n",
        "print(z5,z6,z7,z8)"
      ],
      "metadata": {
        "id": "5j-Eb4T5hfuJ"
      },
      "execution_count": null,
      "outputs": []
    },
    {
      "cell_type": "markdown",
      "source": [
        "**Operações matemáticas**\n",
        "\n",
        "Funções fornecidas pelo módulo math para números inteiros e de ponto flutuante"
      ],
      "metadata": {
        "id": "X5nMFXdnhkLS"
      }
    },
    {
      "cell_type": "code",
      "source": [
        "import math\n",
        "\n",
        "x = 4\n",
        "print(math.sqrt(x))      # sqrt(4) = 2\n",
        "print(math.pow(x,2))     # 4**2 = 16\n",
        "print(math.exp(x))       # exp(4) = 54.6\n",
        "print(math.log(x,2))     # log base 2  (padrão)\n",
        "print(math.fabs(-4))     # valor absoluto\n",
        "print(math.factorial(x)) # 4! = 4 x 3 x 2 x 1 = 24\n",
        "\n",
        "z = 0.2\n",
        "print(math.ceil(z))      # ceiling function\n",
        "print(math.floor(z))     # floor function\n",
        "print(math.trunc(z))     # truncate function\n",
        "\n",
        "z = 3*math.pi            # math.pi = 3.141592653589793\n",
        "print(math.sin(z))       # função seno\n",
        "print(math.tanh(z))      # função arctan\n",
        "\n",
        "x = math.nan             # not a number\n",
        "print(math.isnan(x))\n",
        "\n",
        "x = math.inf             # infinity\n",
        "print(math.isinf(x))"
      ],
      "metadata": {
        "id": "esPG1N6KhnS-"
      },
      "execution_count": null,
      "outputs": []
    },
    {
      "cell_type": "markdown",
      "source": [
        "**Operaçẽs Lógicas**\n",
        "\n",
        "Operações disponíveis para boleano:"
      ],
      "metadata": {
        "id": "QKFaG3a0hq6y"
      }
    },
    {
      "cell_type": "code",
      "source": [
        "y1 = True\n",
        "y2 = False\n",
        "\n",
        "print(y1 and y2)       # logical AND\n",
        "print(y1 or y2)        # logical OR\n",
        "print(y1 and not y2)   # logical NOT"
      ],
      "metadata": {
        "id": "aV_TDNtJh1VM"
      },
      "execution_count": null,
      "outputs": []
    },
    {
      "cell_type": "markdown",
      "source": [
        "**Cadeia de Caracteres**\n",
        "\n",
        "Operações e funções para manipular cadeias de caracteres"
      ],
      "metadata": {
        "id": "GLqQ0h2DmGnu"
      }
    },
    {
      "cell_type": "code",
      "source": [
        "s1 = \"Isso\"\n",
        "\n",
        "print(s1[1:])                    # imprime os últimos 3 caracteres\n",
        "print(len(s1))                               # obtem o tamanho da string\n",
        "print(\"O tamanho da string é de \" + str(len(s1))) # muda o type casting int para str\n",
        "print(s1.upper())                            # converte para upper case\n",
        "print(s1.lower())                            # converte para lower case\n",
        "\n",
        "s2 = \"Essa é uma string\"\n",
        "words = s2.split(' ')             # divide a string em palavras\n",
        "print(words[0])\n",
        "print(s2.replace('a','o'))        # troca \"a\" com \"o\"\n",
        "print(s2.replace('uma','nova'))   # troca \"uma\" por \"nova\"\n",
        "print(s2.find(\"u\"))               # encontra a posição de \"u\" na s2\n",
        "print(s1 in s2)                   # verifica se s1 é uma substring de s2\n",
        "\n",
        "print(s1 == 'This')               # comparação de igualdade\n",
        "print(s1 < 'That')                # comparação de inequalidade\n",
        "print(s2 + \" too\")                # concatenar string\n",
        "print((s1 + \" \")* 3)              # replicar a  string 3 vezes"
      ],
      "metadata": {
        "id": "meDonHlGmK-7"
      },
      "execution_count": null,
      "outputs": []
    },
    {
      "cell_type": "markdown",
      "source": [
        "**Tipos de dados compostos**\n",
        "\n",
        "São apresentados as operações de como criar e manipular um objeto de lista"
      ],
      "metadata": {
        "id": "jyI4G-zmpuJD"
      }
    },
    {
      "cell_type": "code",
      "source": [
        "intlist = [1, 3, 5, 7, 9]\n",
        "print(type(intlist))\n",
        "print(intlist)\n",
        "intlist2 = list(range(0,10,2))   # intervalo[valorInicial, valoFinal, passo]\n",
        "print(intlist2)\n",
        "\n",
        "print(intlist[2])                # obter o terceiro elemento da lista\n",
        "print(intlist[:2])               # obter os primeiros 2 elementos\n",
        "print(intlist[2:])               # obter os últimos três elementos da lista\n",
        "print(len(intlist))              # obter o número de elementos na lista\n",
        "print(sum(intlist))              # soma dos elementos da lista\n",
        "\n",
        "intlist.append(11)               # insert 11 to end of the list\n",
        "print(intlist)\n",
        "print(intlist.pop())             # remove last element of the list\n",
        "print(intlist)\n",
        "print(intlist + [11,13,15])      # concatenate two lists\n",
        "print(intlist * 3)               # replicate the list\n",
        "intlist.insert(2,4)              # insert item 4 at index 2\n",
        "print(intlist)\n",
        "intlist.sort(reverse=True)       # sort elements in descending order\n",
        "print(intlist)"
      ],
      "metadata": {
        "id": "Y9A2qy_ppytX"
      },
      "execution_count": null,
      "outputs": []
    },
    {
      "cell_type": "markdown",
      "source": [],
      "metadata": {
        "id": "lWaM-p3hscYA"
      }
    },
    {
      "cell_type": "code",
      "source": [
        "mylist = ['this', 'is', 'a', 'list']\n",
        "print(mylist)\n",
        "print(type(mylist))\n",
        "\n",
        "print(\"list\" in mylist)          # check whether \"list\" is in mylist\n",
        "print(mylist[2])                 # show the 3rd element of the list\n",
        "print(mylist[:2])                # show the first two elements of the list\n",
        "print(mylist[2:])                # show the last two elements of the list\n",
        "mylist.append(\"too\")             # insert element to end of the list\n",
        "\n",
        "separator = \" \"\n",
        "print(separator.join(mylist))    # merge all elements of the list into a string\n",
        "\n",
        "mylist.remove(\"is\")              # remove element from list\n",
        "print(mylist)"
      ],
      "metadata": {
        "id": "A0n9SAqQsshY"
      },
      "execution_count": null,
      "outputs": []
    },
    {
      "cell_type": "markdown",
      "source": [
        "Os exemplos a seguir mostram como criar e manipular um objeto de dicionário\n"
      ],
      "metadata": {
        "id": "puZTtn98stmj"
      }
    },
    {
      "cell_type": "code",
      "source": [
        "abbrev = {}\n",
        "abbrev['MI'] = \"Michigan\"\n",
        "abbrev['MN'] = \"Minnesota\"\n",
        "abbrev['TX'] = \"Texas\"\n",
        "abbrev['CA'] = \"California\"\n",
        "\n",
        "print(abbrev)\n",
        "print(abbrev.keys())            # get the keys of the dictionary\n",
        "print(abbrev.values())          # get the values of the dictionary\n",
        "print(len(abbrev))              # get number of key-value pairs\n",
        "\n",
        "print(abbrev.get('MI'))\n",
        "print(\"FL\" in abbrev)\n",
        "print(\"CA\" in abbrev)\n",
        "\n",
        "keys = ['apples', 'oranges', 'bananas', 'cherries']\n",
        "values = [3, 4, 2, 10]\n",
        "fruits = dict(zip(keys, values))\n",
        "print(fruits)\n",
        "print(sorted(fruits))     # sort keys of dictionary\n",
        "\n",
        "from operator import itemgetter\n",
        "print(sorted(fruits.items(), key=itemgetter(0)))    # sort by key of dictionary\n",
        "print(sorted(fruits.items(), key=itemgetter(1)))    # sort by value of dictionary"
      ],
      "metadata": {
        "id": "MgBDdi8qs5Co"
      },
      "execution_count": null,
      "outputs": []
    },
    {
      "cell_type": "code",
      "source": [
        "Ituple = ('MI', 'Michigan', 'Lansing')\n",
        "CAtuple = ('CA', 'California', 'Sacramento')\n",
        "TXtuple = ('TX', 'Texas', 'Austin')\n",
        "\n",
        "print(MItuple)\n",
        "print(MItuple[1:])\n",
        "\n",
        "states = [MItuple, CAtuple, TXtuple]    # this will create a list of tuples\n",
        "print(states)\n",
        "print(states[2])\n",
        "print(states[2][:])\n",
        "print(states[2][1:])\n",
        "\n",
        "states.sort(key=lambda state: state[2])  # sort the states by their capital cities\n",
        "print(states)"
      ],
      "metadata": {
        "id": "BltGW5yrs9WZ"
      },
      "execution_count": null,
      "outputs": []
    },
    {
      "cell_type": "markdown",
      "source": [
        "**Fluxo de controle**\n",
        "\n",
        "Semelhante a outras linguagens de programação, as instruções de fluxo de controle em Python incluem instruções if, for e while."
      ],
      "metadata": {
        "id": "refL6Mg2s8IP"
      }
    },
    {
      "cell_type": "code",
      "source": [
        "# using if-else statement\n",
        "x = 10\n",
        "\n",
        "if x % 2 == 0:\n",
        "    print(\"x =\", x, \"is even\")\n",
        "else:\n",
        "    print(\"x =\", x, \"is odd\")\n",
        "\n",
        "if x > 0:\n",
        "    print(\"x =\", x, \"is positive\")\n",
        "elif x < 0:\n",
        "    print(\"x =\", x, \"is negative\")\n",
        "else:\n",
        "    print(\"x =\", x, \"is neither positive nor negative\")"
      ],
      "metadata": {
        "id": "opLOGTETMWV0"
      },
      "execution_count": null,
      "outputs": []
    },
    {
      "cell_type": "code",
      "source": [
        "# using for loop with a list\n",
        "\n",
        "mylist = ['this', 'is', 'a', 'list']\n",
        "for word in mylist:\n",
        "    print(word.replace(\"is\", \"at\"))\n",
        "\n",
        "mylist2 = [len(word) for word in mylist]   # number of characters in each word\n",
        "print(mylist2)\n",
        "\n",
        "# using for loop with list of tuples\n",
        "\n",
        "states = [('MI', 'Michigan', 'Lansing'),('CA', 'California', 'Sacramento'),\n",
        "          ('TX', 'Texas', 'Austin')]\n",
        "\n",
        "sorted_capitals = [state[2] for state in states]\n",
        "sorted_capitals.sort()\n",
        "print(sorted_capitals)\n",
        "\n",
        "# using for loop with dictionary\n",
        "\n",
        "fruits = {'apples': 3, 'oranges': 4, 'bananas': 2, 'cherries': 10}\n",
        "fruitnames = [k for (k,v) in fruits.items()]\n",
        "print(fruitnames)"
      ],
      "metadata": {
        "id": "aJ4dfMeSMd0h"
      },
      "execution_count": null,
      "outputs": []
    },
    {
      "cell_type": "code",
      "source": [
        "# usando while\n",
        "mylist = list(range(-10,10))\n",
        "print(mylist)\n",
        "\n",
        "i = 0\n",
        "while (mylist[i] < 0):\n",
        "    i = i + 1\n",
        "\n",
        "print(\"First non-negative number:\", mylist[i])"
      ],
      "metadata": {
        "id": "n96AAO8tMhMB"
      },
      "execution_count": null,
      "outputs": []
    },
    {
      "cell_type": "markdown",
      "source": [
        "**Função**\n",
        "\n",
        "Para criar suas próprias funções no Python, que podem ser nomeadas ou não nomeadas. Use a palavra reservada lambda e atribua o comportamento de função a um objeto, ou seja, é uma forma de declarar funções não nomeadas."
      ],
      "metadata": {
        "id": "EtNe7_xxMlQZ"
      }
    },
    {
      "cell_type": "code",
      "source": [
        "myfunc = lambda x: 3*x**2 - 2*x + 3 # exemplo de uma função quadrática\n",
        "\n",
        "print(myfunc(2))"
      ],
      "metadata": {
        "colab": {
          "base_uri": "https://localhost:8080/"
        },
        "id": "JJQnl_QLMsek",
        "outputId": "d945e4a3-b9c2-4524-f8f7-9807e0df6e89"
      },
      "execution_count": null,
      "outputs": [
        {
          "output_type": "stream",
          "name": "stdout",
          "text": [
            "11\n"
          ]
        }
      ]
    },
    {
      "cell_type": "code",
      "source": [
        "def f(x):\n",
        "    return x**2"
      ],
      "metadata": {
        "id": "SdDDD721M1Kd"
      },
      "execution_count": null,
      "outputs": []
    },
    {
      "cell_type": "markdown",
      "source": [
        "O mesmo exemplo utilizando uma função lambda:"
      ],
      "metadata": {
        "id": "jyE-AF2RM9ky"
      }
    },
    {
      "cell_type": "code",
      "source": [
        "f = lambda x: x**2"
      ],
      "metadata": {
        "id": "21L8YfaaM7bj"
      },
      "execution_count": null,
      "outputs": []
    },
    {
      "cell_type": "markdown",
      "source": [
        "**Gravação de Arquivo**"
      ],
      "metadata": {
        "id": "dmC0aUZcNjT8"
      }
    },
    {
      "cell_type": "markdown",
      "source": [
        "Ler e gravar dados de uma lista ou de outros objetos em um arquivo."
      ],
      "metadata": {
        "id": "6BqTyBf4NFA4"
      }
    },
    {
      "cell_type": "code",
      "source": [
        "states = [('MI', 'Michigan', 'Lansing'),('CA', 'California', 'Sacramento'),\n",
        "          ('TX', 'Texas', 'Austin'), ('MN', 'Minnesota', 'St Paul')]\n",
        "\n",
        "with open('states.txt', 'w') as f:\n",
        "    f.write('\\n'.join('%s,%s,%s' % state for state in states))\n",
        "\n",
        "with open('states.txt', 'r') as f:\n",
        "    for line in f:\n",
        "        fields = line.split(sep=',')    # divide cada linha dentro de seus respectivos campos\n",
        "        print('Estado=',fields[1],'(',fields[0],')','Capital:', fields[2])"
      ],
      "metadata": {
        "id": "08ymeG2FNKrw",
        "colab": {
          "base_uri": "https://localhost:8080/"
        },
        "outputId": "5b00bf31-9474-4ff3-dac9-e8aa8fdad0ef"
      },
      "execution_count": null,
      "outputs": [
        {
          "output_type": "stream",
          "name": "stdout",
          "text": [
            "Estado= Michigan ( MI ) Capital: Lansing\n",
            "\n",
            "Estado= California ( CA ) Capital: Sacramento\n",
            "\n",
            "Estado= Texas ( TX ) Capital: Austin\n",
            "\n",
            "Estado= Minnesota ( MN ) Capital: St Paul\n"
          ]
        }
      ]
    },
    {
      "cell_type": "markdown",
      "source": [
        "# **Exercícios**"
      ],
      "metadata": {
        "id": "2-2g6QaQN6W1"
      }
    },
    {
      "cell_type": "markdown",
      "source": [
        "1) Crie os arrays diretamente nos seguintes padrão e verificar os resultados. Para visualizar o resultado use o comando “print”.\n",
        "\n",
        "a) A = [[1, 4, 5, 12], \\\n",
        "       [-5, 8, 9, 0], \\\n",
        "       [-6, 7, 11, 19]]\\\n",
        "b) B = [[16, 8, 2, 4],\n",
        "       [5, 7, 8, 11],\n",
        "       [20, 30, 40, 50]]\\\n",
        "c) C = [[1, 2, 3, 4], [5, 6, 7, 8], [9, 8, 8,  9], [8, 7, 7, 8], [4,  5, 9,  8]]   \n",
        "\n"
      ],
      "metadata": {
        "id": "Sd79WEtjN_I4"
      }
    },
    {
      "cell_type": "code",
      "source": [],
      "metadata": {
        "id": "n7WoIGttOEwh"
      },
      "execution_count": null,
      "outputs": []
    },
    {
      "cell_type": "markdown",
      "source": [
        "2) Crie vetores contendo: \\\n",
        "a) Todos os valores de 1 a 20;\\\n",
        "b) Todos os valores pares de 1 a 20;\\\n",
        "c) Todos os valores ímpares de 1 a 20;\\\n",
        "d) Valores de 0 a 1, intervalados de 0.1.\n"
      ],
      "metadata": {
        "id": "Laj8HLnvOxZg"
      }
    },
    {
      "cell_type": "code",
      "source": [],
      "metadata": {
        "id": "Gjdbk6I0XZcq"
      },
      "execution_count": null,
      "outputs": []
    },
    {
      "cell_type": "markdown",
      "source": [
        "3) Construa um programa que simule um caixa eletrônico em que o usuário pode realizar operações de deposito, sque e consulta. No entanto, na primeira interação deve realizar ao operação de deposito. Utilize estrutura de loop while para controlar as operações e garantir que o saldo não seja negativo.\n"
      ],
      "metadata": {
        "id": "nW4HIgcvC8UK"
      }
    },
    {
      "cell_type": "code",
      "source": [],
      "metadata": {
        "id": "TxulS5tBD5ij"
      },
      "execution_count": null,
      "outputs": []
    },
    {
      "cell_type": "markdown",
      "source": [
        "4) Construa um programa que leia um arquivo .CSV com dados de vendas (produto, data, valor). Utilize uma estrutura de loop for para calcular o total de vendas por produto, por data e por mês. O arquivo deve ser criado manualmente para manipulação das informações."
      ],
      "metadata": {
        "id": "mY01Imb1D6PC"
      }
    },
    {
      "cell_type": "code",
      "source": [],
      "metadata": {
        "id": "J2JOW5sFELVX"
      },
      "execution_count": null,
      "outputs": []
    }
  ]
}