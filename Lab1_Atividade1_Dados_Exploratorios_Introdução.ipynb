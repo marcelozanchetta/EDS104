{
  "nbformat": 4,
  "nbformat_minor": 0,
  "metadata": {
    "colab": {
      "provenance": [],
      "authorship_tag": "ABX9TyO/pBAn/NSMP5JU6rvGdBgX",
      "include_colab_link": true
    },
    "kernelspec": {
      "name": "python3",
      "display_name": "Python 3"
    },
    "language_info": {
      "name": "python"
    }
  },
  "cells": [
    {
      "cell_type": "markdown",
      "metadata": {
        "id": "view-in-github",
        "colab_type": "text"
      },
      "source": [
        "<a href=\"https://colab.research.google.com/github/marcelozanchetta/EDS104/blob/main/Lab1_Atividade1_Dados_Exploratorios_Introdu%C3%A7%C3%A3o.ipynb\" target=\"_parent\"><img src=\"https://colab.research.google.com/assets/colab-badge.svg\" alt=\"Open In Colab\"/></a>"
      ]
    },
    {
      "cell_type": "markdown",
      "source": [
        "# **Laboratório 1 - Atividade 1**\n",
        "\n",
        "Esse laboratório traz os passos iniciais do Colab para manipulação de dados.\n"
      ],
      "metadata": {
        "id": "2DAFxL7842jh"
      }
    },
    {
      "cell_type": "markdown",
      "source": [
        "\n",
        "---\n",
        "# **Ferramenta Colab**\n",
        "---\n",
        "**Iniciando o uso da ferramenta**\n",
        "\n",
        "1.  Para desenvolver as atividades, crie um notebook no Colab https://colab.research.google.com/). Clique em “novo notebook” e selecione o notebook Python 3.\n",
        "\n",
        "2.  O hardware definido para processamento no Google Colab é a CPU, mas pode também empregar a GPU. Para modificar para GPU, clique em **Editar** -> **Configurações do notebook** ->  **Acelerador de hardware** -> GPU”.\n",
        "\n",
        "**Executando uma célula**\n",
        "* Verifique se o *runtime* esta conectado. O bloco de anotações mostra uma marca na cor verde e conectado no canto superior direito;\n",
        "\n",
        "* Existem várias opções de tempo de execução em runtime.\n",
        "\n",
        "**Comandos pelo terminal (célula)**\n",
        "* Os comandos podem ser executados prefixando com “!”.  Se for usar comandos Linux como, por exemplo, comando para criar diretório \"mkdir\", então, use **!mkdir**.\n",
        "\n",
        "* Para gerar pastas/conteúdo e /drive, execute o trecho a seguir para alterar a pasta atual."
      ],
      "metadata": {
        "id": "8dkkknRWq6aG"
      }
    },
    {
      "cell_type": "markdown",
      "source": [
        "\n"
      ],
      "metadata": {
        "id": "TRPLYGYEt0SJ"
      }
    },
    {
      "cell_type": "code",
      "source": [
        "# Adicione o diretório ao caminho do python usando sys\n",
        "import sys\n",
        "sys.path.append(‘[nome da pasta]’)"
      ],
      "metadata": {
        "id": "Vj7GpabovRcU"
      },
      "execution_count": null,
      "outputs": []
    },
    {
      "cell_type": "markdown",
      "source": [
        "Um exemplo de um comando para download da Web"
      ],
      "metadata": {
        "id": "CgHhbau_vTuN"
      }
    },
    {
      "cell_type": "code",
      "source": [
        "!wget [url] -p drive/[nome da pasta]"
      ],
      "metadata": {
        "id": "wu7Crp1cvX1B"
      },
      "execution_count": null,
      "outputs": []
    },
    {
      "cell_type": "markdown",
      "source": [
        "Para observar as especificações de seu hardware:"
      ],
      "metadata": {
        "id": "R-mvP4OsvbSa"
      }
    },
    {
      "cell_type": "code",
      "source": [
        "!cat /proc/cpuinfo"
      ],
      "metadata": {
        "id": "7IJp9fONv4GE"
      },
      "execution_count": null,
      "outputs": []
    },
    {
      "cell_type": "code",
      "source": [
        "!cat /proc/meminfo"
      ],
      "metadata": {
        "id": "iwCHCPl7wNoO"
      },
      "execution_count": null,
      "outputs": []
    },
    {
      "cell_type": "markdown",
      "source": [
        "\n",
        "Para verificar as especificações da GPU"
      ],
      "metadata": {
        "id": "o6b6AyCHwaX1"
      }
    },
    {
      "cell_type": "code",
      "source": [
        "from tensorflow.python.client import device_lib\n",
        "device_lib.list_local_devices()"
      ],
      "metadata": {
        "id": "bfV6zqlSvoaP"
      },
      "execution_count": null,
      "outputs": []
    },
    {
      "cell_type": "markdown",
      "source": [
        "**Instalando Bibliotecas**\n",
        "\n",
        "Novas bibliotecas podem ser instaladas usando os pacotes abaixo:\n"
      ],
      "metadata": {
        "id": "My11lhdnxzxg"
      }
    },
    {
      "cell_type": "code",
      "source": [
        "!pip install [nome do pacote] ou !apt-get install [nome do pacote]"
      ],
      "metadata": {
        "id": "2RHwShrjx_Ki"
      },
      "execution_count": null,
      "outputs": []
    },
    {
      "cell_type": "markdown",
      "source": [
        "---\n",
        "# **Procedimentos Iniciais com os Dados**\n",
        "---\n",
        "\n",
        "Como iremos trabalhar com arquivos para análise dos dados. No Python, há diversas formas de leitura de arquivos. Segue algumas abordagens para leitura de arquivos.\n",
        "\n",
        "\n",
        "**Usando um caminho da URL:**\n"
      ],
      "metadata": {
        "id": "2DvrS6DZ1xxI"
      }
    },
    {
      "cell_type": "code",
      "source": [
        "# usando Dataframe do Pandas\n",
        "import pandas as pd\n",
        "dataset = pd.read_csv('https://archive.ics.uci.edu/ml/machine-learning-databases/breast-cancer-wisconsin/breast-cancer-wisconsin.data')"
      ],
      "metadata": {
        "id": "XL_mMkza11-V"
      },
      "execution_count": 13,
      "outputs": []
    },
    {
      "cell_type": "markdown",
      "source": [
        "**Usando o gerenciador de arquivos** do **CoLab**:\n"
      ],
      "metadata": {
        "id": "5V_Badde1_bh"
      }
    },
    {
      "cell_type": "code",
      "source": [
        "from google.colab import files\n",
        "uploaded = files.upload()"
      ],
      "metadata": {
        "id": "WbNza2ae8BYt",
        "colab": {
          "base_uri": "https://localhost:8080/",
          "height": 73
        },
        "outputId": "f6e049d5-161f-47d1-a2cf-cf8319ed240e"
      },
      "execution_count": 1,
      "outputs": [
        {
          "output_type": "display_data",
          "data": {
            "text/plain": [
              "<IPython.core.display.HTML object>"
            ],
            "text/html": [
              "\n",
              "     <input type=\"file\" id=\"files-de992fc3-b29f-487a-abb6-a15206701cc4\" name=\"files[]\" multiple disabled\n",
              "        style=\"border:none\" />\n",
              "     <output id=\"result-de992fc3-b29f-487a-abb6-a15206701cc4\">\n",
              "      Upload widget is only available when the cell has been executed in the\n",
              "      current browser session. Please rerun this cell to enable.\n",
              "      </output>\n",
              "      <script>// Copyright 2017 Google LLC\n",
              "//\n",
              "// Licensed under the Apache License, Version 2.0 (the \"License\");\n",
              "// you may not use this file except in compliance with the License.\n",
              "// You may obtain a copy of the License at\n",
              "//\n",
              "//      http://www.apache.org/licenses/LICENSE-2.0\n",
              "//\n",
              "// Unless required by applicable law or agreed to in writing, software\n",
              "// distributed under the License is distributed on an \"AS IS\" BASIS,\n",
              "// WITHOUT WARRANTIES OR CONDITIONS OF ANY KIND, either express or implied.\n",
              "// See the License for the specific language governing permissions and\n",
              "// limitations under the License.\n",
              "\n",
              "/**\n",
              " * @fileoverview Helpers for google.colab Python module.\n",
              " */\n",
              "(function(scope) {\n",
              "function span(text, styleAttributes = {}) {\n",
              "  const element = document.createElement('span');\n",
              "  element.textContent = text;\n",
              "  for (const key of Object.keys(styleAttributes)) {\n",
              "    element.style[key] = styleAttributes[key];\n",
              "  }\n",
              "  return element;\n",
              "}\n",
              "\n",
              "// Max number of bytes which will be uploaded at a time.\n",
              "const MAX_PAYLOAD_SIZE = 100 * 1024;\n",
              "\n",
              "function _uploadFiles(inputId, outputId) {\n",
              "  const steps = uploadFilesStep(inputId, outputId);\n",
              "  const outputElement = document.getElementById(outputId);\n",
              "  // Cache steps on the outputElement to make it available for the next call\n",
              "  // to uploadFilesContinue from Python.\n",
              "  outputElement.steps = steps;\n",
              "\n",
              "  return _uploadFilesContinue(outputId);\n",
              "}\n",
              "\n",
              "// This is roughly an async generator (not supported in the browser yet),\n",
              "// where there are multiple asynchronous steps and the Python side is going\n",
              "// to poll for completion of each step.\n",
              "// This uses a Promise to block the python side on completion of each step,\n",
              "// then passes the result of the previous step as the input to the next step.\n",
              "function _uploadFilesContinue(outputId) {\n",
              "  const outputElement = document.getElementById(outputId);\n",
              "  const steps = outputElement.steps;\n",
              "\n",
              "  const next = steps.next(outputElement.lastPromiseValue);\n",
              "  return Promise.resolve(next.value.promise).then((value) => {\n",
              "    // Cache the last promise value to make it available to the next\n",
              "    // step of the generator.\n",
              "    outputElement.lastPromiseValue = value;\n",
              "    return next.value.response;\n",
              "  });\n",
              "}\n",
              "\n",
              "/**\n",
              " * Generator function which is called between each async step of the upload\n",
              " * process.\n",
              " * @param {string} inputId Element ID of the input file picker element.\n",
              " * @param {string} outputId Element ID of the output display.\n",
              " * @return {!Iterable<!Object>} Iterable of next steps.\n",
              " */\n",
              "function* uploadFilesStep(inputId, outputId) {\n",
              "  const inputElement = document.getElementById(inputId);\n",
              "  inputElement.disabled = false;\n",
              "\n",
              "  const outputElement = document.getElementById(outputId);\n",
              "  outputElement.innerHTML = '';\n",
              "\n",
              "  const pickedPromise = new Promise((resolve) => {\n",
              "    inputElement.addEventListener('change', (e) => {\n",
              "      resolve(e.target.files);\n",
              "    });\n",
              "  });\n",
              "\n",
              "  const cancel = document.createElement('button');\n",
              "  inputElement.parentElement.appendChild(cancel);\n",
              "  cancel.textContent = 'Cancel upload';\n",
              "  const cancelPromise = new Promise((resolve) => {\n",
              "    cancel.onclick = () => {\n",
              "      resolve(null);\n",
              "    };\n",
              "  });\n",
              "\n",
              "  // Wait for the user to pick the files.\n",
              "  const files = yield {\n",
              "    promise: Promise.race([pickedPromise, cancelPromise]),\n",
              "    response: {\n",
              "      action: 'starting',\n",
              "    }\n",
              "  };\n",
              "\n",
              "  cancel.remove();\n",
              "\n",
              "  // Disable the input element since further picks are not allowed.\n",
              "  inputElement.disabled = true;\n",
              "\n",
              "  if (!files) {\n",
              "    return {\n",
              "      response: {\n",
              "        action: 'complete',\n",
              "      }\n",
              "    };\n",
              "  }\n",
              "\n",
              "  for (const file of files) {\n",
              "    const li = document.createElement('li');\n",
              "    li.append(span(file.name, {fontWeight: 'bold'}));\n",
              "    li.append(span(\n",
              "        `(${file.type || 'n/a'}) - ${file.size} bytes, ` +\n",
              "        `last modified: ${\n",
              "            file.lastModifiedDate ? file.lastModifiedDate.toLocaleDateString() :\n",
              "                                    'n/a'} - `));\n",
              "    const percent = span('0% done');\n",
              "    li.appendChild(percent);\n",
              "\n",
              "    outputElement.appendChild(li);\n",
              "\n",
              "    const fileDataPromise = new Promise((resolve) => {\n",
              "      const reader = new FileReader();\n",
              "      reader.onload = (e) => {\n",
              "        resolve(e.target.result);\n",
              "      };\n",
              "      reader.readAsArrayBuffer(file);\n",
              "    });\n",
              "    // Wait for the data to be ready.\n",
              "    let fileData = yield {\n",
              "      promise: fileDataPromise,\n",
              "      response: {\n",
              "        action: 'continue',\n",
              "      }\n",
              "    };\n",
              "\n",
              "    // Use a chunked sending to avoid message size limits. See b/62115660.\n",
              "    let position = 0;\n",
              "    do {\n",
              "      const length = Math.min(fileData.byteLength - position, MAX_PAYLOAD_SIZE);\n",
              "      const chunk = new Uint8Array(fileData, position, length);\n",
              "      position += length;\n",
              "\n",
              "      const base64 = btoa(String.fromCharCode.apply(null, chunk));\n",
              "      yield {\n",
              "        response: {\n",
              "          action: 'append',\n",
              "          file: file.name,\n",
              "          data: base64,\n",
              "        },\n",
              "      };\n",
              "\n",
              "      let percentDone = fileData.byteLength === 0 ?\n",
              "          100 :\n",
              "          Math.round((position / fileData.byteLength) * 100);\n",
              "      percent.textContent = `${percentDone}% done`;\n",
              "\n",
              "    } while (position < fileData.byteLength);\n",
              "  }\n",
              "\n",
              "  // All done.\n",
              "  yield {\n",
              "    response: {\n",
              "      action: 'complete',\n",
              "    }\n",
              "  };\n",
              "}\n",
              "\n",
              "scope.google = scope.google || {};\n",
              "scope.google.colab = scope.google.colab || {};\n",
              "scope.google.colab._files = {\n",
              "  _uploadFiles,\n",
              "  _uploadFilesContinue,\n",
              "};\n",
              "})(self);\n",
              "</script> "
            ]
          },
          "metadata": {}
        },
        {
          "output_type": "stream",
          "name": "stdout",
          "text": [
            "Saving DTW_prec.csv to DTW_prec.csv\n"
          ]
        }
      ]
    },
    {
      "cell_type": "markdown",
      "source": [
        "**Arquivo .cvs de uma URL**\n",
        "\n",
        "Usando uma URL é possível baixar um arquivo com o método read_csv da biblioteca pandas para carregar um dataset. Use um link de arquivo, mas nesse caso existe a limitação de que o arquivo deve ter menos de 25MB."
      ],
      "metadata": {
        "id": "j-h1bqbA2itl"
      }
    },
    {
      "cell_type": "code",
      "source": [
        "# usando Dataframe do Pandas\n",
        "import pandas as pd\n",
        "dataset = pd.read_csv('https://archive.ics.uci.edu/ml/machine-learning-databases/breast-cancer-wisconsin/breast-cancer-wisconsin.data', header=None)"
      ],
      "metadata": {
        "id": "qtW10waki86F"
      },
      "execution_count": 4,
      "outputs": []
    },
    {
      "cell_type": "markdown",
      "source": [
        "**Repositórios de bibliotecas do Python**"
      ],
      "metadata": {
        "id": "3uQ4EnGi9KAR"
      }
    },
    {
      "cell_type": "code",
      "source": [
        "from sklearn.datasets import load_iris\n",
        "iris = load_iris()"
      ],
      "metadata": {
        "id": "iLkC6TVcjdAb"
      },
      "execution_count": 5,
      "outputs": []
    },
    {
      "cell_type": "markdown",
      "source": [
        "**Arquivo armazenado no Google Drive**\n",
        "\n",
        "Uma alternativa é usar um arquivo armazenado no GoogleDrive. O primeiro passo é a montagem do drive."
      ],
      "metadata": {
        "id": "vGgWUcxSjhyW"
      }
    },
    {
      "cell_type": "code",
      "source": [
        "from google.colab import drive\n",
        "drive.mount('/content/drive')"
      ],
      "metadata": {
        "id": "HFhZLjAjjklR",
        "colab": {
          "base_uri": "https://localhost:8080/"
        },
        "outputId": "281a04d6-6b48-40ba-c8aa-d523d94296ec"
      },
      "execution_count": 6,
      "outputs": [
        {
          "output_type": "stream",
          "name": "stdout",
          "text": [
            "Mounted at /content/drive\n"
          ]
        }
      ]
    },
    {
      "cell_type": "markdown",
      "source": [
        "Será exibido um link e uma caixa de texto em que você irá logar em sua conta do Google e após isso uma chave de acesso lhe será fornecida. Volte à aba do Colab e cole essa chave na caixa de texto e em seguida pressione ENTER.\n",
        "\n",
        "Agora você acessará qualquer arquivo no Google Drive a partir do diretório /content/drive/MyDrive/.\n",
        "\n",
        "Para acessar um arquivo *.csv use este código:\n",
        "\n"
      ],
      "metadata": {
        "id": "2xoIF-ewj8AB"
      }
    },
    {
      "cell_type": "code",
      "source": [
        "# usando Dataframe do Pandas\n",
        "import pandas as pd\n",
        "dataset = pd.read_csv(\"/content/sample_data/mnist_test.csv\")\n",
        "dataset.head()"
      ],
      "metadata": {
        "id": "yqbTsML0j-RT"
      },
      "execution_count": null,
      "outputs": []
    },
    {
      "cell_type": "code",
      "source": [
        "dataset.describe()"
      ],
      "metadata": {
        "id": "EoSpgNbYHILq"
      },
      "execution_count": null,
      "outputs": []
    },
    {
      "cell_type": "markdown",
      "source": [
        "---\n",
        "# **Exercicio**\n",
        "---"
      ],
      "metadata": {
        "id": "xICJhtp8SdcF"
      }
    },
    {
      "cell_type": "markdown",
      "source": [
        "1) Escolha um dataset, faça o armazenamento e exibição dos dados da base de dados no Colab usando duas possíveis abordagens apresentadas. Mostre as informações disponíveis de cada coluna e linha dessa base.\n",
        "\n",
        "Segue outras sugestões: https://vincentarelbundock.github.io/Rdatasets/datasets.html"
      ],
      "metadata": {
        "id": "HnC2pOcXSLt8"
      }
    },
    {
      "cell_type": "code",
      "source": [],
      "metadata": {
        "id": "dIZ3tpl5SbZ0"
      },
      "execution_count": null,
      "outputs": []
    }
  ]
}