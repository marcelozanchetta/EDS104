{
  "nbformat": 4,
  "nbformat_minor": 0,
  "metadata": {
    "colab": {
      "provenance": [],
      "authorship_tag": "ABX9TyOs3lRzazp04KWXFdhPlsHw",
      "include_colab_link": true
    },
    "kernelspec": {
      "name": "python3",
      "display_name": "Python 3"
    },
    "language_info": {
      "name": "python"
    }
  },
  "cells": [
    {
      "cell_type": "markdown",
      "metadata": {
        "id": "view-in-github",
        "colab_type": "text"
      },
      "source": [
        "<a href=\"https://colab.research.google.com/github/marcelozanchetta/EDS104/blob/main/Lab1_Atividade1_Dados_Exploratorios_Introdu%C3%A7%C3%A3o.ipynb\" target=\"_parent\"><img src=\"https://colab.research.google.com/assets/colab-badge.svg\" alt=\"Open In Colab\"/></a>"
      ]
    },
    {
      "cell_type": "markdown",
      "source": [
        "# **Laboratório 1 - Atividade 1**"
      ],
      "metadata": {
        "id": "2DAFxL7842jh"
      }
    },
    {
      "cell_type": "markdown",
      "source": [
        "\n",
        "---\n",
        "# **Ferramenta Colab**\n",
        "---\n",
        "**Iniciando o uso da ferramenta**\n",
        "\n",
        "1.  Para desenvolver as atividades, crie um notebook no Colab https://colab.research.google.com/). Clique em “novo notebook” e selecione o notebook Python 2 ou o notebook Python 3.\n",
        "\n",
        "2.  O hardware definido para processamento no Google Colab é a CPU, mas pode também empregar a GPU. Para modificar para GPU, clique em **Editar** -> **Configurações do notebook** ->  **Acelerador de hardware** -> GPU”.\n",
        "\n",
        "**Executando uma célula**\n",
        "> Verifique se o *runtime* esta conectado. O bloco de anotações mostra uma marca na cor verde e conectado no canto superior direito;\n",
        "\n",
        "> Existem várias opções de tempo de execução em runtime.\n",
        "\n",
        "**Comandos pelo terminal (célula)**\n",
        "* Os comandos podem ser executados prefixando com “!”.  Se for usar comandos Linux como, por exemplo, comando para criar diretório \"mkdir\", então, use **!mkdir**.\n",
        "\n",
        "* Para gerar pastas/conteúdo e /drive, execute o trecho a seguir para alterar a pasta atual."
      ],
      "metadata": {
        "id": "8dkkknRWq6aG"
      }
    },
    {
      "cell_type": "markdown",
      "source": [
        "\n"
      ],
      "metadata": {
        "id": "TRPLYGYEt0SJ"
      }
    },
    {
      "cell_type": "code",
      "source": [
        "import sys\n",
        "sys.path.append(‘[nome da pasta]’)"
      ],
      "metadata": {
        "id": "Vj7GpabovRcU"
      },
      "execution_count": null,
      "outputs": []
    },
    {
      "cell_type": "markdown",
      "source": [
        "Um exemplo de um comando para download da Web"
      ],
      "metadata": {
        "id": "CgHhbau_vTuN"
      }
    },
    {
      "cell_type": "code",
      "source": [
        "!wget [url] -p drive/[nome da pasta]"
      ],
      "metadata": {
        "id": "wu7Crp1cvX1B"
      },
      "execution_count": null,
      "outputs": []
    },
    {
      "cell_type": "markdown",
      "source": [
        "Para observar as especificações de seu hardware:"
      ],
      "metadata": {
        "id": "R-mvP4OsvbSa"
      }
    },
    {
      "cell_type": "code",
      "source": [
        "!cat /proc/cpuinfo"
      ],
      "metadata": {
        "id": "7IJp9fONv4GE"
      },
      "execution_count": null,
      "outputs": []
    },
    {
      "cell_type": "code",
      "source": [
        "!cat /proc/meminfo"
      ],
      "metadata": {
        "id": "iwCHCPl7wNoO"
      },
      "execution_count": null,
      "outputs": []
    },
    {
      "cell_type": "markdown",
      "source": [
        "\n",
        "Para verificar as especificações da GPU"
      ],
      "metadata": {
        "id": "o6b6AyCHwaX1"
      }
    },
    {
      "cell_type": "code",
      "source": [
        "from tensorflow.python.client import device_lib\n",
        "device_lib.list_local_devices()"
      ],
      "metadata": {
        "id": "bfV6zqlSvoaP"
      },
      "execution_count": null,
      "outputs": []
    },
    {
      "cell_type": "markdown",
      "source": [
        "**Instalando Bibliotecas**\n",
        "\n",
        "Novas bibliotecas podem ser instaladas usando os pacotes abaixo:\n"
      ],
      "metadata": {
        "id": "My11lhdnxzxg"
      }
    },
    {
      "cell_type": "code",
      "source": [
        "!pip install [nome do pacote] ou !apt-get install [nome do pacote]"
      ],
      "metadata": {
        "id": "2RHwShrjx_Ki"
      },
      "execution_count": null,
      "outputs": []
    },
    {
      "cell_type": "markdown",
      "source": [
        "---\n",
        "# **Arquivos para Manipulação**\n",
        "---\n",
        "\n",
        "No Python, há diversas formas de leitura de arquivos. Segue as principais abordagens para leitura de arquivos.\n",
        "\n",
        "\n",
        "**Usando um caminho da URL:**\n"
      ],
      "metadata": {
        "id": "2DvrS6DZ1xxI"
      }
    },
    {
      "cell_type": "code",
      "source": [
        "import pandas as pd\n",
        "dataset = pd.read_csv('https://archive.ics.uci.edu/ml/machine-learning-databases/breast-cancer-wisconsin/breast-cancer-wisconsin.data', header=None)"
      ],
      "metadata": {
        "id": "XL_mMkza11-V"
      },
      "execution_count": null,
      "outputs": []
    },
    {
      "cell_type": "markdown",
      "source": [
        "**Gerenciador de arquivos** do **CoLab**:\n"
      ],
      "metadata": {
        "id": "5V_Badde1_bh"
      }
    },
    {
      "cell_type": "code",
      "source": [
        "from google.colab import files\n",
        "uploaded = files.upload()"
      ],
      "metadata": {
        "id": "WbNza2ae8BYt"
      },
      "execution_count": null,
      "outputs": []
    },
    {
      "cell_type": "code",
      "source": [
        "import io\n",
        "dataset = pd.read_csv(io.BytesIO(uploaded['weight.csv']))"
      ],
      "metadata": {
        "id": "4eFuyb5w8XHI"
      },
      "execution_count": null,
      "outputs": []
    },
    {
      "cell_type": "markdown",
      "source": [
        "**Arquivo .cvs de uma URL**\n",
        "\n",
        "Usando uma URL é possível baixar um arquivo com o método read_csv da biblioteca pandas para carregar um dataset. Use um link de arquivo, mas nesse caso existe a limitação de que o arquivo deve ter menos de 25MB."
      ],
      "metadata": {
        "id": "j-h1bqbA2itl"
      }
    },
    {
      "cell_type": "code",
      "source": [
        "import pandas as pd\n",
        "dataset = pd.read_csv('https://archive.ics.uci.edu/ml/machine-learning-databases/breast-cancer-wisconsin/breast-cancer-wisconsin.data', header=None)"
      ],
      "metadata": {
        "id": "qtW10waki86F"
      },
      "execution_count": null,
      "outputs": []
    },
    {
      "cell_type": "markdown",
      "source": [
        "**Repositórios de bibliotecas do Python**"
      ],
      "metadata": {
        "id": "3uQ4EnGi9KAR"
      }
    },
    {
      "cell_type": "code",
      "source": [
        "from sklearn.datasets import load_iris\n",
        "iris = load_iris()"
      ],
      "metadata": {
        "id": "iLkC6TVcjdAb"
      },
      "execution_count": null,
      "outputs": []
    },
    {
      "cell_type": "markdown",
      "source": [
        "**Arquivo armazenado no Google Drive**\n",
        "\n",
        "Uma alternativa é usar um arquivo armazenado no GoogleDrive. O primeiro passo é a montagem do drive."
      ],
      "metadata": {
        "id": "vGgWUcxSjhyW"
      }
    },
    {
      "cell_type": "code",
      "source": [
        "from google.colab import drive\n",
        "drive.mount('/content/drive')"
      ],
      "metadata": {
        "id": "HFhZLjAjjklR"
      },
      "execution_count": null,
      "outputs": []
    },
    {
      "cell_type": "markdown",
      "source": [
        "Será exibido um link e uma caixa de texto em que você irá logar em sua conta do Google e após isso uma chave de acesso lhe será fornecida. Volte à aba do Colab e cole essa chave na caixa de texto e em seguida pressione ENTER.\n",
        "\n",
        "Agora acessará qualquer arquivo no Google Drive a partir do diretório /content/drive/MyDrive/.\n",
        "\n",
        "Para acessar um arquivo *.csv use este código:\n",
        "\n"
      ],
      "metadata": {
        "id": "2xoIF-ewj8AB"
      }
    },
    {
      "cell_type": "code",
      "source": [
        "import pandas as pd\n",
        "dataset = pd.read_csv(\"/content/drive/MyDrive/dataset-cvs/MLB_cleaned.csv\")"
      ],
      "metadata": {
        "id": "yqbTsML0j-RT"
      },
      "execution_count": null,
      "outputs": []
    },
    {
      "cell_type": "markdown",
      "source": [
        "---\n",
        "# **Exercicio**\n",
        "---"
      ],
      "metadata": {
        "id": "xICJhtp8SdcF"
      }
    },
    {
      "cell_type": "markdown",
      "source": [
        "1) Escolha uma das bases dos slides \"Dataset\" e faça o armazenamento e exibição dos dados da base de dados no Colab usando duas possíveis abordagens apresentadas. Mostre as informações disponíveis de cada coluna e linha dessa base."
      ],
      "metadata": {
        "id": "HnC2pOcXSLt8"
      }
    },
    {
      "cell_type": "code",
      "source": [],
      "metadata": {
        "id": "dIZ3tpl5SbZ0"
      },
      "execution_count": null,
      "outputs": []
    }
  ]
}