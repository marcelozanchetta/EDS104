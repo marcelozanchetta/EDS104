{
  "nbformat": 4,
  "nbformat_minor": 0,
  "metadata": {
    "colab": {
      "provenance": [],
      "mount_file_id": "1MEJTveyAJMwz5l67AE7E0zj0GTVIyQ-c",
      "authorship_tag": "ABX9TyNkv/RCO+wjFYR8a56jzQLN",
      "include_colab_link": true
    },
    "kernelspec": {
      "name": "python3",
      "display_name": "Python 3"
    },
    "language_info": {
      "name": "python"
    }
  },
  "cells": [
    {
      "cell_type": "markdown",
      "metadata": {
        "id": "view-in-github",
        "colab_type": "text"
      },
      "source": [
        "<a href=\"https://colab.research.google.com/github/marcelozanchetta/EDS104/blob/main/Lab1_Atividade3_Dados_Exploratorios.ipynb\" target=\"_parent\"><img src=\"https://colab.research.google.com/assets/colab-badge.svg\" alt=\"Open In Colab\"/></a>"
      ]
    },
    {
      "cell_type": "markdown",
      "source": [
        "# **Laboratório 1 - Atividade 3**\n",
        "\n",
        "\n"
      ],
      "metadata": {
        "id": "hC8Y-H_uiGHp"
      }
    },
    {
      "cell_type": "markdown",
      "source": [
        "Esse laboratório traz as principais características da Linguagem Python para realização de operações com dados com as bibliotecas Numpy.\n",
        "\n",
        "O Numpy é um pacote do Python para suportar operações númericas em que explora estruturas de dados em objeto array multidimensional denominado ndarray. Essa biblioteca fornece um conjunto de funções que permite manipular elementos de um ndarray."
      ],
      "metadata": {
        "id": "WvdSGB4Ch3bU"
      }
    },
    {
      "cell_type": "markdown",
      "source": [
        "# **Manipulação com Numpy**"
      ],
      "metadata": {
        "id": "8TTd5pTYV3GH"
      }
    },
    {
      "cell_type": "markdown",
      "source": [
        " **Criando Array**\n",
        "\n",
        " Um ndarray pode ser criado a partir de uma lista oum objeto tupla. É possível criar uma matriz unidimensional ou multidimensional a partir de objetos de lista ou de tuplas."
      ],
      "metadata": {
        "id": "MVdJWqAbWK-c"
      }
    },
    {
      "cell_type": "code",
      "source": [
        "import numpy as np\n",
        "\n",
        "oneDim = np.array([1.0,2,3,4,5])   # um vetor\n",
        "print(oneDim)\n",
        "print(\"#Dimensão =\", oneDim.ndim)\n",
        "print(\"Dimensão =\", oneDim.shape)\n",
        "print(\"Tamanho =\", oneDim.size)\n",
        "print(\"Tipo =\", oneDim.dtype, '\\n')"
      ],
      "metadata": {
        "id": "E_V4JI6kWPBI"
      },
      "execution_count": null,
      "outputs": []
    },
    {
      "cell_type": "code",
      "source": [
        "twoDim = np.array([[1,2],[3,4],[5,6],[7,8]])  # matriz 2D\n",
        "print(twoDim)\n",
        "print(\"#Dimensões =\", twoDim.ndim)\n",
        "print(\"Dimensão =\", twoDim.shape)\n",
        "print(\"Tamanho =\", twoDim.size)\n",
        "print(\"Tipo =\", twoDim.dtype, '\\n')"
      ],
      "metadata": {
        "id": "vb2PgHg2NFL5"
      },
      "execution_count": null,
      "outputs": []
    },
    {
      "cell_type": "code",
      "source": [
        "arrFromTuple = np.array([(1,'a',3.0),(2,'b',3.5)])  # matriz 3D\n",
        "print(arrFromTuple)\n",
        "print(\"Dimensão =\", arrFromTuple.shape)\n",
        "print(\"Tamanho =\", arrFromTuple.size)"
      ],
      "metadata": {
        "id": "avOavt67Ms8X"
      },
      "execution_count": null,
      "outputs": []
    },
    {
      "cell_type": "markdown",
      "source": [
        "Há funções internas disponíveis no numpy para criar as ndarrays."
      ],
      "metadata": {
        "id": "zNQmk9KxNk1B"
      }
    },
    {
      "cell_type": "code",
      "source": [
        "print('Array de números randômicos de uma distribuição uniforme')\n",
        "print(np.random.rand(5))      #  entre [0,1]\n",
        "\n",
        "print('\\nArray de números randômicos de uma distribuição normal')\n",
        "print(np.random.randn(5))\n",
        "\n",
        "print('\\nArray de inteiros entre o intervalo de -10 e 10 com passos de 2')\n",
        "print(np.arange(-10,10,2))\n",
        "\n",
        "print('\\n Array de 2 dimensões de inteiro entre 0 e 11')\n",
        "print(np.arange(12).reshape(3,4))\n",
        "\n",
        "print('\\nArray de valores entre 0 e 1, com split em 10 valores')\n",
        "print(np.linspace(0,1,10))"
      ],
      "metadata": {
        "id": "clXgyedpNnzv"
      },
      "execution_count": null,
      "outputs": []
    },
    {
      "cell_type": "code",
      "source": [
        "print('Uma matrix de zeros de tamanho 2 x 3')\n",
        "print(np.zeros((2,3)))\n",
        "\n",
        "print('\\n Uma matriz de 3 x 2 com valores 1s')\n",
        "print(np.ones((3,2)))\n",
        "\n",
        "print('\\nUma mtriz identidade 3 x 3 ')\n",
        "print(np.eye(3))"
      ],
      "metadata": {
        "id": "OUgUf-osPgAC"
      },
      "execution_count": null,
      "outputs": []
    },
    {
      "cell_type": "markdown",
      "source": [
        "**Operações por elementos**\n",
        "\n",
        "Aplicação de operadores padrão, como adição e multiplicação, em cada elemento do ndarray."
      ],
      "metadata": {
        "id": "EbN0I7yrV-Mt"
      }
    },
    {
      "cell_type": "code",
      "source": [
        "x = np.array([1,2,3,4,5])\n",
        "\n",
        "print('x =', x)\n",
        "print('x + 1 =', x + 1)\n",
        "print('x - 1 =', x - 1)\n",
        "print('x * 2 =', x * 2)\n",
        "print('x // 2 =', x // 2)\n",
        "print('x ** 2 =', x ** 2)\n",
        "print('x % 2 =', x % 2)\n",
        "print('1 / x =', 1 / x)"
      ],
      "metadata": {
        "id": "5j-Eb4T5hfuJ"
      },
      "execution_count": null,
      "outputs": []
    },
    {
      "cell_type": "code",
      "source": [
        "x = np.array([2,4,6,8,10])\n",
        "y = np.array([1,2,3,4,5])\n",
        "\n",
        "print('x =', x)\n",
        "print('y =', y)\n",
        "print('x + y =', x + y)      # adição aos elementos das matrizes\n",
        "print('x - y =', x - y)\n",
        "print('x * y =', x * y)\n",
        "print('x / y =', x / y)\n",
        "print('x // y =', x // y)\n",
        "print('x ** y =', x ** y)"
      ],
      "metadata": {
        "id": "qNczWVMRQT7j"
      },
      "execution_count": null,
      "outputs": []
    },
    {
      "cell_type": "markdown",
      "source": [
        "**Indexação e divisão**\n",
        "\n",
        "Há várias maneiras de selecionar um subconjunto de elementos em uma matriz numérica. Atribuir uma matriz numérica (ou um subconjunto de seus elementos) a outra variável simplesmente passará uma referência à matriz em vez de copiar seus valores.\n",
        "\n",
        "Para fazer uma cópia de uma matriz numérica deve usar a função .copy()."
      ],
      "metadata": {
        "id": "X5nMFXdnhkLS"
      }
    },
    {
      "cell_type": "code",
      "source": [
        "x = np.arange(-5,5)\n",
        "print('Antes: x =', x)\n",
        "\n",
        "y = x[0:2]     # y é uma divisão (intervalo)\n",
        "print('        y =', y)\n",
        "y[:] = 1000    # modifica o valor de y\n",
        "print('Após: y =', y)\n",
        "print('        x =', x, '\\n')\n",
        "\n",
        "z = x[0:2].copy()   # faz uma cópia do subintervalo\n",
        "print('Antes: x =', x)\n",
        "print('        z =', z)\n",
        "z[:] = 500          # modificando o valor de z não afeterá o x\n",
        "print('Após: z =', z)\n",
        "print('        x =', x)"
      ],
      "metadata": {
        "id": "esPG1N6KhnS-"
      },
      "execution_count": null,
      "outputs": []
    },
    {
      "cell_type": "markdown",
      "source": [
        "É possível acessar os elementos de uma ndarray."
      ],
      "metadata": {
        "id": "TjtkgnrzTKUc"
      }
    },
    {
      "cell_type": "code",
      "source": [
        "my2dlist = [[1,2,3,4],[5,6,7,8],[9,10,11,12]]\n",
        "print('my2dlist =', my2dlist)\n",
        "print('my2dlist[2] =', my2dlist[2])            # acessar o terceiro\n",
        "print('my2dlist[:][2] =', my2dlist[:][2])      # não pode acessar o terceiro elemento\n",
        "# print('my2dlist[:,2] =', my2dlist[:,2])      # forma invalida para acesso\n",
        "\n",
        "my2darr = np.array(my2dlist)\n",
        "print('\\nmy2darr =\\n', my2darr)"
      ],
      "metadata": {
        "id": "RYXM_DW3TPvz"
      },
      "execution_count": null,
      "outputs": []
    },
    {
      "cell_type": "markdown",
      "source": [
        "As matrizes Numpy também suportam indexação booleana."
      ],
      "metadata": {
        "id": "QKFaG3a0hq6y"
      }
    },
    {
      "cell_type": "code",
      "source": [
        "my2darr = np.arange(1,13,1).reshape(3,4)\n",
        "print('my2darr =\\n', my2darr)\n",
        "\n",
        "divBy3 = my2darr[my2darr % 3 == 0]\n",
        "print('\\nmy2darr[my2darr % 3 == 0] =', divBy3)            # retorna todos os elementos divisível por 3 em um ndarray\n",
        "\n",
        "divBy3LastRow = my2darr[2:, my2darr[2,:] % 3 == 0]\n",
        "print('my2darr[2:, my2darr[2,:] % 3 == 0] =', divBy3LastRow)"
      ],
      "metadata": {
        "id": "aV_TDNtJh1VM"
      },
      "execution_count": null,
      "outputs": []
    },
    {
      "cell_type": "markdown",
      "source": [
        "**Funções aritméticas e estatísticas do Numpy**\n",
        "\n",
        "O Numpy oferece muitas funções disponíveis para  manipular elementos de um ndarray."
      ],
      "metadata": {
        "id": "GLqQ0h2DmGnu"
      }
    },
    {
      "cell_type": "code",
      "source": [
        "y = np.array([-1.4, 0.4, -3.2, 2.5, 3.4])\n",
        "print('y =', y, '\\n')\n",
        "\n",
        "print('np.abs(y) =', np.abs(y))                # valor absoluto\n",
        "print('np.sqrt(abs(y)) =', np.sqrt(abs(y)))    # raiz quadrada\n",
        "print('np.sign(y) =', np.sign(y))              # obter o sinal de cada elemento\n",
        "print('np.exp(y) =', np.exp(y))                # exponencial\n",
        "print('np.sort(y) =', np.sort(y))              # ordenar\n",
        "\n",
        "x = np.arange(-2,3)\n",
        "y = np.random.randn(5)\n",
        "print('x =', x)\n",
        "print('y =', y, '\\n')\n",
        "\n",
        "print('np.add(x,y) =', np.add(x,y))                # adição      x + y\n",
        "print('np.subtract(x,y) =', np.subtract(x,y))      # subtração   x - y\n",
        "print('np.multiply(x,y) =', np.multiply(x,y))      # multiplicação x * y\n",
        "print('np.divide(x,y) =', np.divide(x,y))          # divisão       x / y\n",
        "print('np.maximum(x,y) =', np.maximum(x,y))        # maximo       max(x,y)\n",
        "\n",
        "y = np.array([-3.2, -1.4, 0.4, 2.5, 3.4])\n",
        "print('y =', y, '\\n')\n",
        "\n",
        "print(\"Min =\", np.min(y))             # min\n",
        "print(\"Max =\", np.max(y))             # max\n",
        "print(\"Média =\", np.mean(y))        # média\n",
        "print(\"Desvio padrão =\", np.std(y))   # desvio padrão\n",
        "print(\"Soma =\", np.sum(y))             # soma\n",
        "\n",
        "# para calcular p15%\n",
        "percentil_15 = np.percentile(y, 15)\n",
        "print(\"Percentil =\", percentil_15) # trata-se de uma generalização da mediana (que corresponde a p50%) e do primeiro e terceiro quartis."
      ],
      "metadata": {
        "id": "meDonHlGmK-7",
        "colab": {
          "base_uri": "https://localhost:8080/"
        },
        "outputId": "3a84c7fb-f844-4c69-b6b2-db7c9c546da6"
      },
      "execution_count": 19,
      "outputs": [
        {
          "output_type": "stream",
          "name": "stdout",
          "text": [
            "y = [-1.4  0.4 -3.2  2.5  3.4] \n",
            "\n",
            "np.abs(y) = [1.4 0.4 3.2 2.5 3.4]\n",
            "np.sqrt(abs(y)) = [1.18321596 0.63245553 1.78885438 1.58113883 1.84390889]\n",
            "np.sign(y) = [-1.  1. -1.  1.  1.]\n",
            "np.exp(y) = [ 0.24659696  1.4918247   0.0407622  12.18249396 29.96410005]\n",
            "np.sort(y) = [-3.2 -1.4  0.4  2.5  3.4]\n",
            "x = [-2 -1  0  1  2]\n",
            "y = [ 1.06606381  0.47935003 -0.62036715 -0.64080241  1.12586035] \n",
            "\n",
            "np.add(x,y) = [-0.93393619 -0.52064997 -0.62036715  0.35919759  3.12586035]\n",
            "np.subtract(x,y) = [-3.06606381 -1.47935003  0.62036715  1.64080241  0.87413965]\n",
            "np.multiply(x,y) = [-2.13212761 -0.47935003 -0.         -0.64080241  2.25172071]\n",
            "np.divide(x,y) = [-1.87606031 -2.0861582  -0.         -1.56054345  1.77641925]\n",
            "np.maximum(x,y) = [1.06606381 0.47935003 0.         1.         2.        ]\n",
            "y = [-3.2 -1.4  0.4  2.5  3.4] \n",
            "\n",
            "Min = -3.2\n",
            "Max = 3.4\n",
            "Média = 0.34000000000000014\n",
            "Desvio padrão = 2.432776191925595\n",
            "Soma = 1.7000000000000006\n",
            "Percentil = -2.48\n"
          ]
        }
      ]
    },
    {
      "cell_type": "markdown",
      "source": [
        "**Algebra Linear**\n",
        "\n",
        "Operações de algebra linear"
      ],
      "metadata": {
        "id": "jyI4G-zmpuJD"
      }
    },
    {
      "cell_type": "code",
      "source": [
        "X = np.random.randn(2,3)                         # matriz 2 x 3 random\n",
        "print('X =\\n', X, '\\n')\n",
        "print('Transposta de X, X.T =\\n', X.T, '\\n')      # Transposta\n",
        "\n",
        "y = np.random.randn(3) # vetor random\n",
        "print('y =', y, '\\n')\n",
        "\n",
        "print('Multiplicação Matriz-vetor')\n",
        "print('X.dot(y) =\\n', X.dot(y), '\\n')            # multiplicação matriz-vetor  X * y\n",
        "\n",
        "print('Produto')\n",
        "print('X.dot(X.T) =', X.dot(X.T))        # multiplicação matriz-matriz  X * X^T\n",
        "print('\\nX.T.dot(X) =\\n', X.T.dot(X))      # multiplicação matriz-matriz  X^T * X\n",
        "\n",
        "\n",
        "X = np.random.randn(5,3)\n",
        "print('X =\\n', X, '\\n')\n",
        "\n",
        "C = X.T.dot(X)               #  C = X^T * X é uma matriz quadrada\n",
        "print('C = X.T.dot(X) =\\n', C, '\\n')\n",
        "\n",
        "invC = np.linalg.inv(C)      # inverso de uma matriz quadrada\n",
        "print('Inverso de C = np.linalg.inv(C)\\n', invC, '\\n')\n",
        "\n",
        "detC = np.linalg.det(C)      # determinante\n",
        "print('Determinante de C = np.linalg.det(C) =', detC)\n",
        "\n",
        "S, U = np.linalg.eig(C)      # eigenvalue S e eigenvector U de uma matriz quadrada\n",
        "print('Eigenvalue de C =\\n', S)\n",
        "print('Eigenvector de C =\\n', U)"
      ],
      "metadata": {
        "id": "Y9A2qy_ppytX"
      },
      "execution_count": null,
      "outputs": []
    },
    {
      "cell_type": "markdown",
      "source": [
        "#  **Exemplo: Dataset Iris**"
      ],
      "metadata": {
        "id": "lWaM-p3hscYA"
      }
    },
    {
      "cell_type": "code",
      "source": [
        "from google.colab import drive\n",
        "drive.mount('/content/drive')\n"
      ],
      "metadata": {
        "id": "c913ivq7ebrd"
      },
      "execution_count": null,
      "outputs": []
    },
    {
      "cell_type": "code",
      "source": [
        "# fazer download do arquivo no link: https://github.com/pandas-dev/pandas/blob/main/pandas/tests/io/data/csv/iris.csv\n",
        "import pandas as pd\n",
        "dataset = pd.read_csv(\"/content/drive/MyDrive/Dados_Exploratorios_dataset-cvs/datasets/iris.csv\")"
      ],
      "metadata": {
        "id": "A0n9SAqQsshY"
      },
      "execution_count": 29,
      "outputs": []
    },
    {
      "cell_type": "code",
      "source": [
        "# imprimindo os dez primeiros exemplos da base de dados\n",
        "print(dataset.head(10))"
      ],
      "metadata": {
        "colab": {
          "base_uri": "https://localhost:8080/"
        },
        "id": "bWpSjBeXfchk",
        "outputId": "de250a8c-ffed-458c-c08f-f32177ca9599"
      },
      "execution_count": 40,
      "outputs": [
        {
          "output_type": "stream",
          "name": "stdout",
          "text": [
            "   SepalLength  SepalWidth  PetalLength  PetalWidth         Name\n",
            "0          5.1         3.5          1.4         0.2  Iris-setosa\n",
            "1          4.9         3.0          1.4         0.2  Iris-setosa\n",
            "2          4.7         3.2          1.3         0.2  Iris-setosa\n",
            "3          4.6         3.1          1.5         0.2  Iris-setosa\n",
            "4          5.0         3.6          1.4         0.2  Iris-setosa\n",
            "5          5.4         3.9          1.7         0.4  Iris-setosa\n",
            "6          4.6         3.4          1.4         0.3  Iris-setosa\n",
            "7          5.0         3.4          1.5         0.2  Iris-setosa\n",
            "8          4.4         2.9          1.4         0.2  Iris-setosa\n",
            "9          4.9         3.1          1.5         0.1  Iris-setosa\n"
          ]
        }
      ]
    },
    {
      "cell_type": "code",
      "source": [
        "# calculando a mediana para todos os atributos\n",
        "values = dataset.median(numeric_only=True)\n",
        "print(values)"
      ],
      "metadata": {
        "id": "MgBDdi8qs5Co"
      },
      "execution_count": null,
      "outputs": []
    },
    {
      "cell_type": "code",
      "source": [
        "# calculando a variancia para todos os atributos\n",
        "values=dataset.var(numeric_only=True)\n",
        "print(values)\n",
        "\n",
        "# calculando o desvio-padrao para todos os atributos\n",
        "# (na biblioteca pandas, ddof=1 por padrao)\n",
        "values=dataset.std(numeric_only=True)\n",
        "print(values)\n",
        "\n",
        "# calculando a obliquidade para todos os atributos\n",
        "values=dataset.skew(numeric_only=True)\n",
        "print(values)\n",
        "\n",
        "# calculando a curtose para todos os atributos\n",
        "values=dataset.kurtosis(numeric_only=True)\n",
        "print(values)"
      ],
      "metadata": {
        "id": "nEdS8xNPhiYv"
      },
      "execution_count": null,
      "outputs": []
    },
    {
      "cell_type": "markdown",
      "source": [
        "# **Visualização de Dados**\n",
        "\n",
        "**Histograma**"
      ],
      "metadata": {
        "id": "refL6Mg2s8IP"
      }
    },
    {
      "cell_type": "code",
      "source": [
        "# calculando o histograma para uma variável\n",
        "import numpy\n",
        "from matplotlib import pyplot\n",
        "\n",
        "# Notas na primeira prova\n",
        "notas = numpy.array([2, 5, 7, 3, 5, 6, 5, 6, 6, 5, 5, 3])\n",
        "pyplot.hist(notas, bins='auto')\n",
        "pyplot.title('Histograma')\n",
        "\n",
        "pyplot.ylabel('Frequencia')\n",
        "pyplot.xlabel('Nota')\n",
        "pyplot.show()"
      ],
      "metadata": {
        "id": "opLOGTETMWV0",
        "colab": {
          "base_uri": "https://localhost:8080/",
          "height": 472
        },
        "outputId": "adbe9876-9397-4f83-dc34-8d7908a49b93"
      },
      "execution_count": 47,
      "outputs": [
        {
          "output_type": "display_data",
          "data": {
            "text/plain": [
              "<Figure size 640x480 with 1 Axes>"
            ],
            "image/png": "[encoded data removed]"
          },
          "metadata": {}
        }
      ]
    },
    {
      "cell_type": "markdown",
      "source": [
        "**Scatter plots**"
      ],
      "metadata": {
        "id": "sRD-VWvki562"
      }
    },
    {
      "cell_type": "code",
      "source": [
        "import pandas\n",
        "from matplotlib import pyplot\n",
        "\n",
        "# carregando iris.csv\n",
        "dados = dataset\n",
        "\n",
        "# criando um dicionario para mapear cada classe para uma cor\n",
        "classe_cor = {'Iris-setosa' : 'red',\n",
        "'Iris-virginica' : 'blue',\n",
        "'Iris-versicolor' : 'green'}\n",
        "\n",
        "# criando uma lista com as cores de cada exemplo\n",
        "cores = [classe_cor[nome] for nome in dados.Name]\n",
        "\n",
        "# gerando scatter plot\n",
        "# no eixo x sera plotado o tamanho da sepala\n",
        "# no eixo y sera plotado o comprimento da sepala\n",
        "dados.plot(kind='scatter', x='SepalLength', y='SepalWidth',\n",
        "c=cores)\n",
        "pyplot.show()"
      ],
      "metadata": {
        "id": "aJ4dfMeSMd0h"
      },
      "execution_count": null,
      "outputs": []
    },
    {
      "cell_type": "markdown",
      "source": [
        "**Box plots**"
      ],
      "metadata": {
        "id": "xPI4ixK_oNCM"
      }
    },
    {
      "cell_type": "code",
      "source": [
        "import pandas\n",
        "from pandas.plotting import scatter_matrix\n",
        "from matplotlib import pyplot\n",
        "\n",
        "# gerando bloxplot para os atributos da Iris\n",
        "dataset.plot(kind='box')\n",
        "pyplot.show()"
      ],
      "metadata": {
        "id": "n96AAO8tMhMB",
        "colab": {
          "base_uri": "https://localhost:8080/",
          "height": 430
        },
        "outputId": "4d095a21-49f4-4564-c0ca-8faceec746ad"
      },
      "execution_count": 49,
      "outputs": [
        {
          "output_type": "display_data",
          "data": {
            "text/plain": [
              "<Figure size 640x480 with 1 Axes>"
            ],
            "image/png": "[encoded data removed]"
          },
          "metadata": {}
        }
      ]
    },
    {
      "cell_type": "markdown",
      "source": [
        "**Leituras suplementares**"
      ],
      "metadata": {
        "id": "dmC0aUZcNjT8"
      }
    },
    {
      "cell_type": "markdown",
      "source": [
        "Documentação do Pandas: https://pandas.pydata.org/pandas-docs/stable/\n",
        "\n",
        "Tutoriais do Pandas: https://www.w3schools.com/python/pandas/default.asp\n"
      ],
      "metadata": {
        "id": "6BqTyBf4NFA4"
      }
    },
    {
      "cell_type": "markdown",
      "source": [
        "# **Exercícios**"
      ],
      "metadata": {
        "id": "2-2g6QaQN6W1"
      }
    },
    {
      "cell_type": "markdown",
      "source": [
        "1) Construa um programa que represente matrizes 1D, 2D, 3D preenchidas com zeros, uns ou números aleatórios.\n",
        "\n"
      ],
      "metadata": {
        "id": "Sd79WEtjN_I4"
      }
    },
    {
      "cell_type": "code",
      "source": [],
      "metadata": {
        "id": "n7WoIGttOEwh"
      },
      "execution_count": null,
      "outputs": []
    },
    {
      "cell_type": "markdown",
      "source": [
        "2) Construa um programa que calcule o mínimo, o máximo, a soma e a média dos\n",
        " elementos em uma matriz."
      ],
      "metadata": {
        "id": "Laj8HLnvOxZg"
      }
    },
    {
      "cell_type": "code",
      "source": [],
      "metadata": {
        "id": "Gjdbk6I0XZcq"
      },
      "execution_count": null,
      "outputs": []
    },
    {
      "cell_type": "markdown",
      "source": [
        "3) Construa um programa que leia um arquivo .CSV com dados de vendas (produto, data, valor). Utilize uma estrutura de loop for para calcular o total de vendas por produto, por data e por mês. O arquivo deve ser criado manualmente para manipulação das informações."
      ],
      "metadata": {
        "id": "mY01Imb1D6PC"
      }
    },
    {
      "cell_type": "code",
      "source": [],
      "metadata": {
        "id": "J2JOW5sFELVX"
      },
      "execution_count": null,
      "outputs": []
    },
    {
      "cell_type": "markdown",
      "source": [
        "4) Construa um programa que calcule o produto escalar de duas matrizes."
      ],
      "metadata": {
        "id": "T-KH6XSZMB0a"
      }
    },
    {
      "cell_type": "code",
      "source": [],
      "metadata": {
        "id": "XGRGWexbMA-f"
      },
      "execution_count": null,
      "outputs": []
    },
    {
      "cell_type": "markdown",
      "source": [
        "5) Construa um programa que calcule a apresente métricas estatísticas de um dataset (use algum dataset da \"aula Datasets\"). Compare os resultados obtidos usando o box plot. Gere os histogramas para cada atributo da base. Que atributos possuem distribuições mais simétricas? Há a presença de valores extremos, denominados de outliers, para algum atributo?"
      ],
      "metadata": {
        "id": "q9Wcpfl6M1y6"
      }
    },
    {
      "cell_type": "code",
      "source": [],
      "metadata": {
        "id": "ePHm9m8NOM86"
      },
      "execution_count": null,
      "outputs": []
    }
  ]
}