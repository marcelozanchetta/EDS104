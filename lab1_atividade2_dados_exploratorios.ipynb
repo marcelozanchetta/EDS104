{
  "nbformat": 4,
  "nbformat_minor": 0,
  "metadata": {
    "colab": {
      "provenance": [],
      "authorship_tag": "ABX9TyM5ZRe9ecPolYSVIp/xCKHv",
      "include_colab_link": true
    },
    "kernelspec": {
      "name": "python3",
      "display_name": "Python 3"
    },
    "language_info": {
      "name": "python"
    }
  },
  "cells": [
    {
      "cell_type": "markdown",
      "metadata": {
        "id": "view-in-github",
        "colab_type": "text"
      },
      "source": [
        "<a href=\"https://colab.research.google.com/github/marcelozanchetta/EDS104/blob/main/lab1_atividade2_dados_exploratorios.ipynb\" target=\"_parent\"><img src=\"https://colab.research.google.com/assets/colab-badge.svg\" alt=\"Open In Colab\"/></a>"
      ]
    },
    {
      "cell_type": "code",
      "source": [],
      "metadata": {
        "id": "tOpSVpekV2vi"
      },
      "execution_count": null,
      "outputs": []
    },
    {
      "cell_type": "code",
      "source": [],
      "metadata": {
        "id": "vi6_Qbe4V93E"
      },
      "execution_count": null,
      "outputs": []
    },
    {
      "cell_type": "markdown",
      "source": [
        "# **Manipulação de Dados**"
      ],
      "metadata": {
        "id": "8TTd5pTYV3GH"
      }
    },
    {
      "cell_type": "markdown",
      "source": [
        "A biblioteca padrão do Python oferece suporte a vários tipos de dados elementares, incluindo números inteiros, booleanos, pontos flutuantes e cadeias de caracteres. Os tipos de dados mais comuns são mostrados"
      ],
      "metadata": {
        "id": "MVdJWqAbWK-c"
      }
    },
    {
      "cell_type": "code",
      "source": [
        "x = 4              # inteiro\n",
        "print(x, type(x))\n",
        "y = True           # boleano(True, False)\n",
        "print(y, type(y))\n",
        "z = 3.7            # ponto flutuante\n",
        "print(z, type(z))\n",
        "s = \"This is a string\"    # cadeia de caracteres\n",
        "print(s, type(s))"
      ],
      "metadata": {
        "colab": {
          "base_uri": "https://localhost:8080/"
        },
        "id": "E_V4JI6kWPBI",
        "outputId": "55ada8b7-fbf6-495a-a7b1-989c889af9ec"
      },
      "execution_count": null,
      "outputs": [
        {
          "output_type": "stream",
          "name": "stdout",
          "text": [
            "4 <class 'int'>\n",
            "True <class 'bool'>\n",
            "3.7 <class 'float'>\n",
            "This is a string <class 'str'>\n"
          ]
        }
      ]
    },
    {
      "cell_type": "markdown",
      "source": [],
      "metadata": {
        "id": "EbN0I7yrV-Mt"
      }
    }
  ]
}