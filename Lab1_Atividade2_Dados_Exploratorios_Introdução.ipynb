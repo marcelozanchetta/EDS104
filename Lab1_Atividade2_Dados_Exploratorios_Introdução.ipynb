{
  "nbformat": 4,
  "nbformat_minor": 0,
  "metadata": {
    "colab": {
      "provenance": [],
      "authorship_tag": "ABX9TyPqJv8abr0EGmqwm6uNVBGn",
      "include_colab_link": true
    },
    "kernelspec": {
      "name": "python3",
      "display_name": "Python 3"
    },
    "language_info": {
      "name": "python"
    }
  },
  "cells": [
    {
      "cell_type": "markdown",
      "metadata": {
        "id": "view-in-github",
        "colab_type": "text"
      },
      "source": [
        "<a href=\"https://colab.research.google.com/github/marcelozanchetta/EDS104/blob/main/Lab1_Atividade2_Dados_Exploratorios_Introdu%C3%A7%C3%A3o.ipynb\" target=\"_parent\"><img src=\"https://colab.research.google.com/assets/colab-badge.svg\" alt=\"Open In Colab\"/></a>"
      ]
    },
    {
      "cell_type": "markdown",
      "source": [
        "# **Laboratório 1 - Atividade 2**\n",
        "\n",
        "Esse laboratório traz as principais características da Linguagem Python para realização de operações com dados.\n"
      ],
      "metadata": {
        "id": "hC8Y-H_uiGHp"
      }
    },
    {
      "cell_type": "markdown",
      "source": [
        "---\n",
        "# **Manipulação de Dados**\n",
        "---"
      ],
      "metadata": {
        "id": "8TTd5pTYV3GH"
      }
    },
    {
      "cell_type": "markdown",
      "source": [
        " **Tipos de Dados**\n",
        "\n",
        "A biblioteca padrão do Python oferece suporte a vários tipos de dados elementares, incluindo números inteiros, booleanos, pontos flutuantes e cadeias de caracteres. Os tipos de dados mais usados são:"
      ],
      "metadata": {
        "id": "MVdJWqAbWK-c"
      }
    },
    {
      "cell_type": "code",
      "source": [
        "x = 4              # inteiro\n",
        "print(x, type(x))\n",
        "y = True           # boleano(True, False)\n",
        "print(y, type(y))\n",
        "z = 3.7            # ponto flutuante\n",
        "print(z, type(z))\n",
        "s = \"Isso é uma string\"  # cadeia de caracteres\n",
        "print(s, type(s))"
      ],
      "metadata": {
        "id": "E_V4JI6kWPBI"
      },
      "execution_count": null,
      "outputs": []
    },
    {
      "cell_type": "markdown",
      "source": [
        "**Operações aritméticas**\n",
        "\n",
        "Operações disponíveis para manipular números inteiros e números de ponto flutuante."
      ],
      "metadata": {
        "id": "EbN0I7yrV-Mt"
      }
    },
    {
      "cell_type": "code",
      "source": [
        "x = 4            # inteiro\n",
        "x1 = x + 4       # adição\n",
        "x2 = x * 3       # multiplicação\n",
        "x += 2           # equivalente a x = x + 2\n",
        "x3 = x\n",
        "x *= 3           # equivalente a x = x * 3\n",
        "x4 = x\n",
        "x5 = x % 4       # operador modulo\n",
        "\n",
        "z = 3.7          # numero ponto flutuante\n",
        "z1 = z - 2       # subtração\n",
        "z2 = z / 3       # divisão\n",
        "z3 = z // 3      # divisão de inteiros\n",
        "z4 = z ** 2      # elevado ao quadrado\n",
        "z5 = z4 ** 0.5   # raiz quadrada\n",
        "z6 = pow(z,2)    # equivalente a raiz de z\n",
        "z7 = round(z)    # arredondar z para seu inteiro mais próximo\n",
        "z8 = int(z)      # type casting float para int\n",
        "\n",
        "print(x,x1,x2,x3,x4,x5)\n",
        "print(z,z1,z2,z3,z4)\n",
        "print(z5,z6,z7,z8)"
      ],
      "metadata": {
        "id": "5j-Eb4T5hfuJ"
      },
      "execution_count": null,
      "outputs": []
    },
    {
      "cell_type": "markdown",
      "source": [
        "**Operações matemáticas**\n",
        "\n",
        "Funções fornecidas pelo módulo math para números inteiros e de ponto flutuante"
      ],
      "metadata": {
        "id": "X5nMFXdnhkLS"
      }
    },
    {
      "cell_type": "code",
      "source": [
        "import math\n",
        "\n",
        "x = 4\n",
        "print(math.sqrt(x))      # sqrt(4) = 2\n",
        "print(math.pow(x,2))     # 4**2 = 16\n",
        "print(math.exp(x))       # exp(4) = 54.6\n",
        "print(math.log(x,2))     # log base 2  (padrão)\n",
        "print(math.fabs(-4))     # valor absoluto\n",
        "print(math.factorial(x)) # 4! = 4 x 3 x 2 x 1 = 24\n",
        "\n",
        "z = 1.7\n",
        "print(math.ceil(z))      # arredonda o elemento Z para o número inteiro mais próximo maior ou igual a esse elemento\n",
        "print(math.floor(z))     # arredonda o elemento Z para o número inteiro mais próximo menor ou igual a esse elemento\n",
        "print(math.trunc(z))     # truncado\n",
        "\n",
        "z = 3*math.pi            # math.pi = 3,141592653589793\n",
        "print(math.sin(z))       # função seno\n",
        "print(math.tanh(z))      # função arctan\n",
        "\n",
        "x = math.nan             # não um número\n",
        "print(math.isnan(x))\n",
        "\n",
        "x = math.inf             # infinito\n",
        "print(math.isinf(x))"
      ],
      "metadata": {
        "id": "esPG1N6KhnS-"
      },
      "execution_count": null,
      "outputs": []
    },
    {
      "cell_type": "markdown",
      "source": [
        "**Operaçẽs Lógicas**\n",
        "\n",
        "Operações disponíveis para booleano:"
      ],
      "metadata": {
        "id": "QKFaG3a0hq6y"
      }
    },
    {
      "cell_type": "code",
      "source": [
        "y1 = True\n",
        "y2 = False\n",
        "\n",
        "print(y1 and y2)       # logical AND\n",
        "print(y1 or y2)        # logical OR\n",
        "print(y1 and not y2)   # logical NOT"
      ],
      "metadata": {
        "id": "aV_TDNtJh1VM"
      },
      "execution_count": null,
      "outputs": []
    },
    {
      "cell_type": "markdown",
      "source": [
        "**Cadeia de Caracteres**\n",
        "\n",
        "Operações e funções para manipular cadeias de caracteres"
      ],
      "metadata": {
        "id": "GLqQ0h2DmGnu"
      }
    },
    {
      "cell_type": "code",
      "source": [
        "s1 = \"Isso\"\n",
        "\n",
        "print(s1[1:])                    # imprime os últimos 3 caracteres\n",
        "print(len(s1))                               # obtem o tamanho da string\n",
        "print(\"O tamanho da string é de \" + str(len(s1))) # muda o type casting int para str\n",
        "print(s1.upper())                            # converte para upper case\n",
        "print(s1.lower())                            # converte para lower case\n",
        "\n",
        "s2 = \"Essa é uma string\"\n",
        "words = s2.split(' ')             # divide a string em palavras\n",
        "print(words[0])\n",
        "print(s2.replace('a','o'))        # troca \"a\" com \"o\"\n",
        "print(s2.replace('uma','nova'))   # troca \"uma\" por \"nova\"\n",
        "print(s2.find(\"u\"))               # encontra a posição de \"u\" na s2\n",
        "print(s1 in s2)                   # verifica se s1 é uma substring de s2\n",
        "\n",
        "print(s1 == 'Carro')              # comparação de igualdade\n",
        "print(s1 < 'carro')               # comparação de inequalidade\n",
        "print(s2 + \" também\")             # concatenar string\n",
        "print((s1 + \" \")* 3)              # replicar a string 3 vezes\n",
        "\n",
        "estado = s1.isalnum()             # contém caracteres alfanumericos\n",
        "print(estado)\n",
        "estado = s1.isdecimal()           # contém caracteres decimais\n",
        "print(estado)"
      ],
      "metadata": {
        "id": "meDonHlGmK-7"
      },
      "execution_count": null,
      "outputs": []
    },
    {
      "cell_type": "markdown",
      "source": [
        "**Tipos de dados compostos**\n",
        "\n",
        "São apresentados as operações de como criar e manipular um objeto de lista"
      ],
      "metadata": {
        "id": "jyI4G-zmpuJD"
      }
    },
    {
      "cell_type": "code",
      "source": [
        "intlist = [1, 3, 5, 7, 9]\n",
        "print('Tipo de dados', type(intlist))\n",
        "print(intlist)\n",
        "intlist2 = list(range(0,10,2))   # nova lista com intervalo[valorInicial, valoFinal, passo]\n",
        "print(intlist2)\n",
        "\n",
        "print(intlist[2])                # obter o terceiro elemento da lista\n",
        "print(intlist[:2])               # obter os primeiros 2 elementos\n",
        "print(intlist[2:])               # obter os últimos três elementos da lista\n",
        "print(len(intlist))              # obter o número de elementos na lista\n",
        "print(sum(intlist))              # soma dos elementos da lista\n",
        "\n",
        "intlist.append(11)               # inserir 11 ao final da lista\n",
        "print(intlist)\n",
        "print(intlist.pop())             # remover último elemento da lista\n",
        "print(intlist)\n",
        "print(intlist + [11,13,15])      # concatena duas listas\n",
        "print(intlist * 3)               # replica a lista\n",
        "intlist.insert(2,4)              # insere item 4 no indice 2\n",
        "print(intlist)\n",
        "intlist.sort(reverse=True)       # ordena a lista na ordem decrescente\n",
        "print(intlist)"
      ],
      "metadata": {
        "id": "Y9A2qy_ppytX"
      },
      "execution_count": null,
      "outputs": []
    },
    {
      "cell_type": "code",
      "source": [
        "mylist = ['isso', 'é', 'uma', 'lista']\n",
        "print(mylist)\n",
        "print('Dados do tipo', type(mylist))\n",
        "\n",
        "print(\"lista\" in mylist)         # verifica se \"lista\" esta na minha lista\n",
        "print(mylist[2])                 # mostra o terceiro elemento da lista\n",
        "print(mylist[:2])                # mostra os 2 primeiros elementos da lista\n",
        "print(mylist[2:])                # mostra os dois últimos elementos da lista\n",
        "mylist.append('também')          # insere um elemento no final da lista\n",
        "\n",
        "separator = \" \"\n",
        "print(separator.join(mylist))    # une todos os elementos da lista numa cadeia de caracteres\n",
        "\n",
        "mylist.remove(\"é\")              # remove elemento da lista\n",
        "print(mylist)"
      ],
      "metadata": {
        "id": "A0n9SAqQsshY"
      },
      "execution_count": null,
      "outputs": []
    },
    {
      "cell_type": "markdown",
      "source": [
        "Os exemplos a seguir mostram como criar e manipular um objeto de dicionário\n"
      ],
      "metadata": {
        "id": "puZTtn98stmj"
      }
    },
    {
      "cell_type": "code",
      "source": [
        "abbrev = {}                    #criação do dicionário com as chaves\n",
        "abbrev['UB'] = \"Uberlândia\"\n",
        "abbrev['BR'] = \"Brasilia\"\n",
        "abbrev['AR'] = \"Araguari\"\n",
        "abbrev['CA'] = \"Campinas\"\n",
        "\n",
        "print(abbrev)\n",
        "print(abbrev.keys())            # obter a chave do dicionário\n",
        "print(abbrev.values())          # obter os valores do dicionário\n",
        "print(len(abbrev))              # obter o número de chaves\n",
        "\n",
        "print(abbrev.get('CA'))         # operações de acesso a valores em dicionários\n",
        "print(\"UB\" in abbrev)           # verifica no dicionário\n",
        "print(\"UF\" in abbrev)\n",
        "\n",
        "keys = ['maças', 'laranjas', 'bananas', 'uvas']\n",
        "values = [3, 4, 2, 10]\n",
        "frutas = dict(zip(keys, values))   #juntar duas listas e cria o dicionário\n",
        "print(frutas)\n",
        "print(sorted(frutas))     # ordenar as chaves do dicionário\n",
        "\n",
        "from operator import itemgetter # index das posições dos elementos em um conjunto de funções do módulo \"operator\"\n",
        "print(sorted(frutas.items(), key=itemgetter(0)))    # ordenar por chave do dicionário\n",
        "print(sorted(frutas.items(), key=itemgetter(1)))    # ordenar por valor do dicionário"
      ],
      "metadata": {
        "id": "MgBDdi8qs5Co"
      },
      "execution_count": null,
      "outputs": []
    },
    {
      "cell_type": "code",
      "source": [
        "MItuple = ('MG', 'Minas Gerais', 'Belo Horizonte')\n",
        "CAtuple = ('SP', 'São Paulo', 'São Paulo')\n",
        "TXtuple = ('GO', 'Goiás', 'Goiania')\n",
        "\n",
        "print(MItuple)\n",
        "print(MItuple[1:])\n",
        "\n",
        "states = [MItuple, CAtuple, TXtuple]    # isso irá criar uma lista de tuplas\n",
        "print(states)\n",
        "print(states[0])\n",
        "print(states[1][0])\n",
        "print(states[2][1:])\n",
        "\n",
        "#Lambda usado para ordenar\n",
        "states.sort(key=lambda state: state[2])  # busca os estados pela cidade da capital\n",
        "print(states)"
      ],
      "metadata": {
        "id": "BltGW5yrs9WZ"
      },
      "execution_count": null,
      "outputs": []
    },
    {
      "cell_type": "markdown",
      "source": [
        "**Fluxo de controle**\n",
        "\n",
        "Semelhante a outras linguagens de programação, as instruções de fluxo de controle em Python incluem instruções if, for e while."
      ],
      "metadata": {
        "id": "refL6Mg2s8IP"
      }
    },
    {
      "cell_type": "code",
      "source": [
        "# estrutura if-else\n",
        "x = 0\n",
        "\n",
        "if x > 0:\n",
        "    print(\"x =\", x, \"é positivo\")\n",
        "elif x < 0:\n",
        "    print(\"x =\", x, \"é negativo\")\n",
        "else:\n",
        "    print(\"x =\", x, \"não é positivo ou negativo\")"
      ],
      "metadata": {
        "id": "opLOGTETMWV0",
        "colab": {
          "base_uri": "https://localhost:8080/"
        },
        "outputId": "9ab186cb-0f5d-426b-dd91-2a227deab3f7"
      },
      "execution_count": null,
      "outputs": [
        {
          "output_type": "stream",
          "name": "stdout",
          "text": [
            "x = 0 não é positivo ou negativo\n"
          ]
        }
      ]
    },
    {
      "cell_type": "code",
      "source": [
        "# estrutura de loop\n",
        "mylist = ['Essa', 'é', 'uma', 'lista']\n",
        "\n",
        "for word in mylist:\n",
        "   print(word.replace(\"lista\", \"tabela\"))\n",
        "\n",
        "print('Número de caracteres de cada elemento')\n",
        "mylist2 = [len(word) for word in mylist]   # número de caracteres\n",
        "print(mylist2)\n",
        "\n",
        "# usando o loop com a lista das tuplas\n",
        "states = [('MI', 'Michigan', 'Lansing'),('CA', 'California', 'Sacramento'),\n",
        "          ('TX', 'Texas', 'Austin')]\n",
        "\n",
        "sorted_capitals = [state[2] for state in states]\n",
        "sorted_capitals.sort()\n",
        "print(sorted_capitals)\n",
        "\n",
        "# usando o loop com dicionários\n",
        "fruits = {'apples': 3, 'oranges': 4, 'bananas': 2, 'cherries': 10}\n",
        "fruitnames = [v for (k,v) in fruits.items()] # k chave e v quantidade usando a chave items e traz cada item pelo valor v\n",
        "print(fruitnames)"
      ],
      "metadata": {
        "id": "aJ4dfMeSMd0h"
      },
      "execution_count": null,
      "outputs": []
    },
    {
      "cell_type": "code",
      "source": [
        "# usando while\n",
        "mylist = list(range(-10,10))\n",
        "print(mylist)\n",
        "\n",
        "i = 0\n",
        "while (mylist[i] < 0):\n",
        "    i = i + 1\n",
        "\n",
        "print(i)\n",
        "print(\"Primeiro número não negativo:\", mylist[i])"
      ],
      "metadata": {
        "id": "n96AAO8tMhMB",
        "colab": {
          "base_uri": "https://localhost:8080/"
        },
        "outputId": "49ba500c-91a7-4e40-d2f0-b8dbfe00382b"
      },
      "execution_count": 54,
      "outputs": [
        {
          "output_type": "stream",
          "name": "stdout",
          "text": [
            "[-10, -9, -8, -7, -6, -5, -4, -3, -2, -1, 0, 1, 2, 3, 4, 5, 6, 7, 8, 9]\n",
            "10\n",
            "Primeiro número não negativo: 0\n"
          ]
        }
      ]
    },
    {
      "cell_type": "markdown",
      "source": [
        "**Função**\n",
        "\n",
        "Para criar suas próprias funções no Python, que podem ser nomeadas ou não nomeadas. Use a palavra reservada lambda e atribua o comportamento de função a um objeto, ou seja, é uma forma de declarar funções não nomeadas."
      ],
      "metadata": {
        "id": "EtNe7_xxMlQZ"
      }
    },
    {
      "cell_type": "code",
      "source": [
        "minhafuncao = lambda x: 3*x**2 - 2*x + 3 # exemplo de uma função quadrática\n",
        "\n",
        "print(minhafuncao(2))"
      ],
      "metadata": {
        "colab": {
          "base_uri": "https://localhost:8080/"
        },
        "id": "JJQnl_QLMsek",
        "outputId": "1e096775-f9eb-4168-b892-6e27af204bfa"
      },
      "execution_count": null,
      "outputs": [
        {
          "output_type": "stream",
          "name": "stdout",
          "text": [
            "11\n"
          ]
        }
      ]
    },
    {
      "cell_type": "code",
      "source": [
        "def f(x):\n",
        "    return x**2"
      ],
      "metadata": {
        "id": "SdDDD721M1Kd"
      },
      "execution_count": null,
      "outputs": []
    },
    {
      "cell_type": "markdown",
      "source": [
        "O mesmo exemplo utilizando uma função lambda:"
      ],
      "metadata": {
        "id": "jyE-AF2RM9ky"
      }
    },
    {
      "cell_type": "code",
      "source": [
        "f = lambda x: x**2"
      ],
      "metadata": {
        "id": "21L8YfaaM7bj"
      },
      "execution_count": null,
      "outputs": []
    },
    {
      "cell_type": "markdown",
      "source": [
        "**Gravação de Arquivo**\n",
        "\n",
        "Ler e gravar dados de uma lista ou de outros objetos em um arquivo."
      ],
      "metadata": {
        "id": "dmC0aUZcNjT8"
      }
    },
    {
      "cell_type": "code",
      "source": [
        "states = [('MI', 'Michigan', 'Lansing'),('CA', 'California', 'Sacramento'),\n",
        "          ('TX', 'Texas', 'Austin'), ('MN', 'Minnesota', 'St Paul')]\n",
        "\n",
        "with open('estados.txt', 'w') as f:\n",
        "    f.write('\\n'.join('%s,%s,%s' % state for state in states))\n",
        "\n",
        "with open('estados.txt', 'r') as f:\n",
        "    for line in f:\n",
        "        fields = line.split(sep=',')    # divide cada linha dentro de seus respectivos campos\n",
        "        print('Estado:',fields[1],'(',fields[0],')','Capital:', fields[2])"
      ],
      "metadata": {
        "id": "08ymeG2FNKrw"
      },
      "execution_count": null,
      "outputs": []
    },
    {
      "cell_type": "markdown",
      "source": [
        "---\n",
        "# **Exercícios**\n",
        "---"
      ],
      "metadata": {
        "id": "2-2g6QaQN6W1"
      }
    },
    {
      "cell_type": "markdown",
      "source": [
        "1) Crie os arrays diretamente nos seguintes padrão e verificar os resultados. Para visualizar o resultado use o comando “print”.\n",
        "\n",
        "a) A = [[1, 4, 5, 12], \\\n",
        "       [-5, 8, 9, 0], \\\n",
        "       [-6, 7, 11, 19]]\\\n",
        "b) B = [[16, 8, 2, 4],\n",
        "       [5, 7, 8, 11],\n",
        "       [20, 30, 40, 50]]\\\n",
        "c) C = [[1, 2, 3, 4], [5, 6, 7, 8], [9, 8, 8,  9], [8, 7, 7, 8], [4,  5, 9,  8]]   \n",
        "\n"
      ],
      "metadata": {
        "id": "Sd79WEtjN_I4"
      }
    },
    {
      "cell_type": "code",
      "source": [],
      "metadata": {
        "id": "n7WoIGttOEwh"
      },
      "execution_count": null,
      "outputs": []
    },
    {
      "cell_type": "markdown",
      "source": [
        "2) Crie scripts para trabalhar com vetores contendo: \\\n",
        "a) Todos os valores de 1 a 20;\\\n",
        "b) Todos os valores pares de 1 a 20;\\\n",
        "c) Todos os valores ímpares de 1 a 20;\\\n",
        "d) Valores de 0 a 1, intervalados de 0.1.\n"
      ],
      "metadata": {
        "id": "Laj8HLnvOxZg"
      }
    },
    {
      "cell_type": "code",
      "source": [],
      "metadata": {
        "id": "Gjdbk6I0XZcq"
      },
      "execution_count": null,
      "outputs": []
    },
    {
      "cell_type": "markdown",
      "source": [
        "3) Construa um script que simule um caixa eletrônico em que o usuário pode realizar operações de deposito, sque e consulta. No entanto, na primeira interação deve realizar ao operação de deposito. Utilize estrutura de loop while para controlar as operações e garantir que o saldo não seja negativo.\n"
      ],
      "metadata": {
        "id": "nW4HIgcvC8UK"
      }
    },
    {
      "cell_type": "code",
      "source": [],
      "metadata": {
        "id": "TxulS5tBD5ij"
      },
      "execution_count": null,
      "outputs": []
    },
    {
      "cell_type": "markdown",
      "source": [
        "4) Construa um script que leia um arquivo .CSV com dados de vendas (produto, data, valor). O arquivo deve ser criado manualmente para manipulação das informações. Utilize uma estrutura de loop for para calcular o total de vendas por produto, por data e por mês. Faça buscas da data de maior venda e menor venda dos produtos."
      ],
      "metadata": {
        "id": "mY01Imb1D6PC"
      }
    },
    {
      "cell_type": "code",
      "source": [],
      "metadata": {
        "id": "J2JOW5sFELVX"
      },
      "execution_count": null,
      "outputs": []
    },
    {
      "cell_type": "markdown",
      "source": [
        "5) Escreva um script que insira três números inteiros do usuário. Exiba a soma, a média, o produto, o menor e o maior dos números."
      ],
      "metadata": {
        "id": "Z9pGGDn6eGfC"
      }
    },
    {
      "cell_type": "code",
      "source": [],
      "metadata": {
        "id": "GKC0Gn4PeT3q"
      },
      "execution_count": null,
      "outputs": []
    },
    {
      "cell_type": "markdown",
      "source": [
        "6) Escreva um script que receba um valor e implemente uma função fahrenheit que retorne o equivalente em equivalente em Fahrenheit de uma temperatura Celsius. Use a seguinte fórmula:\n",
        "\n",
        "F = (9 / 5) * C + 32"
      ],
      "metadata": {
        "id": "jU5L8bDjeox1"
      }
    },
    {
      "cell_type": "code",
      "source": [],
      "metadata": {
        "id": "Ctf53R2ie1nS"
      },
      "execution_count": null,
      "outputs": []
    },
    {
      "cell_type": "markdown",
      "source": [
        "7) Use uma ferramenta de tradução on-line, como o Google Translate, para traduzir palavras em inglês para outro idioma. Crie um dicionário de traduções que mapeie as palavras em inglês para suas traduções. Exiba uma tabela de traduções em duas colunas."
      ],
      "metadata": {
        "id": "KUdbdUdBfINI"
      }
    },
    {
      "cell_type": "code",
      "source": [],
      "metadata": {
        "id": "JZeM9rZvfQO_"
      },
      "execution_count": null,
      "outputs": []
    },
    {
      "cell_type": "markdown",
      "source": [
        "8) Usando os seguintes conjuntos:\n",
        "*  {'red', 'green', 'blue'}\n",
        "*  {'cyan', 'green', 'blue', 'magenta', 'red'}\n",
        "\n",
        "exiba os resultados de:\n",
        "\n",
        "a) comparar os conjuntos usando cada um dos operadores de comparação.\n",
        "\n",
        "b) combinar os conjuntos usando cada um dos operadores de conjuntos matemáticos."
      ],
      "metadata": {
        "id": "24VoGG4efbK0"
      }
    },
    {
      "cell_type": "code",
      "source": [],
      "metadata": {
        "id": "nZPJjzUHfrSb"
      },
      "execution_count": null,
      "outputs": []
    }
  ]
}