{
  "nbformat": 4,
  "nbformat_minor": 0,
  "metadata": {
    "colab": {
      "provenance": [],
      "authorship_tag": "ABX9TyOnncMapccHf70fHM7lDQhC",
      "include_colab_link": true
    },
    "kernelspec": {
      "name": "python3",
      "display_name": "Python 3"
    },
    "language_info": {
      "name": "python"
    }
  },
  "cells": [
    {
      "cell_type": "markdown",
      "metadata": {
        "id": "view-in-github",
        "colab_type": "text"
      },
      "source": [
        "<a href=\"https://colab.research.google.com/github/marcelozanchetta/EDS104/blob/main/Lab1_Atividade1_Dados_Exploratorios.ipynb\" target=\"_parent\"><img src=\"https://colab.research.google.com/assets/colab-badge.svg\" alt=\"Open In Colab\"/></a>"
      ]
    },
    {
      "cell_type": "markdown",
      "source": [
        "# **Laboratório 1 - Atividade 1**"
      ],
      "metadata": {
        "id": "2DAFxL7842jh"
      }
    },
    {
      "cell_type": "markdown",
      "source": [
        "# **Ferramenta Colab**\n",
        "\n",
        "**Iniciando o uso da ferramenta**\n",
        "1.  Para desenvolver as atividades, você deve criar um notebook no Colab. Para isso, acesse esse link: [Google Colab](https://colab.research.google.com/).  Em seguida, clique em “novo notebook” e selecione o notebook Python 2 ou o notebook Python 3.\n",
        "\n",
        "2.  O hardware definido para processamento no Google Colab é a CPU, mas pode também empregar a GPU. Para modificar para GPU, clique em **Editar** -> **Configurações do notebook** ->  **Acelerador de hardware** -> GPU”.\n",
        "\n",
        "\n",
        "**Executando uma célula**\n",
        "> Verifique se o runtime esta conectado. O bloco de anotações mostra uma marca na cor verde e conectado no canto superior direito;\n",
        "\n",
        "> Existem várias opções de tempo de execução em runtime.\n",
        "\n",
        "**Comandos pelo terminal (célula)**\n",
        "* Os comandos podem ser executados prefixando o comando com “!”.  Se você pretende usar comandos Linux como por exemplo, comandos de diretório mkdir deve usar !mkdir.\n",
        "* Para gerar as pastas / conteúdo e / drive (se ele foi montado), execute o trecho a seguir para alterar a pasta atual."
      ],
      "metadata": {
        "id": "8dkkknRWq6aG"
      }
    },
    {
      "cell_type": "markdown",
      "source": [
        "\n"
      ],
      "metadata": {
        "id": "TRPLYGYEt0SJ"
      }
    },
    {
      "cell_type": "code",
      "source": [
        "import sys\n",
        "sys.path.append(‘[nome da pasta]’)"
      ],
      "metadata": {
        "id": "Vj7GpabovRcU"
      },
      "execution_count": null,
      "outputs": []
    },
    {
      "cell_type": "markdown",
      "source": [
        "Um exemplo de um comando para download da Web"
      ],
      "metadata": {
        "id": "CgHhbau_vTuN"
      }
    },
    {
      "cell_type": "code",
      "source": [
        "!wget [url] -p drive/[nome da pasta]"
      ],
      "metadata": {
        "id": "wu7Crp1cvX1B"
      },
      "execution_count": null,
      "outputs": []
    },
    {
      "cell_type": "markdown",
      "source": [
        "Para observar as especificações de seu hardware:"
      ],
      "metadata": {
        "id": "R-mvP4OsvbSa"
      }
    },
    {
      "cell_type": "code",
      "source": [
        "!cat /proc/cpuinfo"
      ],
      "metadata": {
        "id": "7IJp9fONv4GE"
      },
      "execution_count": null,
      "outputs": []
    },
    {
      "cell_type": "code",
      "source": [
        "!cat /proc/meminfo"
      ],
      "metadata": {
        "id": "iwCHCPl7wNoO"
      },
      "execution_count": null,
      "outputs": []
    },
    {
      "cell_type": "markdown",
      "source": [
        "\n",
        "Para verificar as especificações da GPU"
      ],
      "metadata": {
        "id": "o6b6AyCHwaX1"
      }
    },
    {
      "cell_type": "code",
      "source": [
        "from tensorflow.python.client import device_lib\n",
        "device_lib.list_local_devices()"
      ],
      "metadata": {
        "id": "bfV6zqlSvoaP"
      },
      "execution_count": null,
      "outputs": []
    },
    {
      "cell_type": "markdown",
      "source": [
        "**Instalando Bibliotecas**\n",
        "\n",
        "Novas bibliotecas podem ser instaladas usando os pacotes abaixo:\n"
      ],
      "metadata": {
        "id": "My11lhdnxzxg"
      }
    },
    {
      "cell_type": "code",
      "source": [
        "!pip install [nome do pacote] ou !apt-get install [nome do pacote]"
      ],
      "metadata": {
        "id": "2RHwShrjx_Ki"
      },
      "execution_count": null,
      "outputs": []
    },
    {
      "cell_type": "markdown",
      "source": [
        "# **Salvando a Atividade Prática (notebook) no GitHub**"
      ],
      "metadata": {
        "id": "1ZphqnVQ3cNe"
      }
    },
    {
      "cell_type": "markdown",
      "source": [
        "**Orientações:**\n",
        "\n",
        "* Deve ser elaborado um único arquivo (notebok) no editor do CoLab (*.pynb) para os exercícios desta prática;\n",
        "* Deve salvar o arquivo com o nome do laboratório e RA do aluno (**exemplo: Lab1_RA151413.pynb**);\n",
        "* Criar um cabeçalho no arquivo contendo o nome do aluno, número RA:\n",
        "\n",
        ">> ======================================================\\\n",
        ">> Nome do aluno:\\\n",
        ">> RA:\\\n",
        ">> Atividade: <inserir o número e assunto>\\\n",
        ">> Entregar em:\\\n",
        ">> ========================================================\\\n",
        "\n",
        "* Deve ser colocado os comentários nos programas desenvolvidos (use o símbolo \\#);\n",
        "* As questões dos exercícios devem ser respondidas como comentários no arquivo;\n",
        "* Depois de finalizar os exercícios, o arquivo “*.ipynb” devem ser salvo com o nome do estudante e enviado para o diretório do github.\n",
        "* Acesse o notebook que deseja enviar, na barra de ferramentas do Colab, você pode acessar Arquivos -> Salvar uma cópia no GitHub:\n",
        "* Depois dessa etapa, deve aparecer uma tela denominada Copiar para o GitHub;\n",
        "* Nessa tela, há 3 campos principais:\n",
        "> i) Repositório: nessa parte, você deve selecionar o nome do repositório onde deseja salvar o notebook (https://github.com/marcelozanchetta/EDS104/Respostas/Lab1);\\\n",
        "> ii) Caminho do arquivo: esse outro campo é designado para selecionar em qual parte do repositório deseja adicionar esse arquivo. Caso você escolha adicionar apenas o arquivo, basta deixar apenas o nome dele. Se desejar que ele fique dentro de alguma pasta específica do GitHub, você deve adicionar o nome dessa pasta antes do nome do arquivo e colocar uma “/”, seguindo a estrutura: nome_da_pasta/nome_do_arquivo;\\\n",
        "> Confirmação: a mensagem de confirmação é um campo no qual deve ser descrita a alteração que foi realizada no projeto.\n",
        "* Verifique no link https://github.com/marcelozanchetta/EDS104/Respostas/Lab1 a submissão de sua atividade.\n"
      ],
      "metadata": {
        "id": "CE5c7zX53zIo"
      }
    },
    {
      "cell_type": "markdown",
      "source": [],
      "metadata": {
        "id": "ScJ68P3U3l1_"
      }
    },
    {
      "cell_type": "code",
      "source": [
        "from sklearn.datasets import load_iris\n",
        "iris = load_iris()"
      ],
      "metadata": {
        "id": "KbpGI6VM8WgC"
      },
      "execution_count": null,
      "outputs": []
    },
    {
      "cell_type": "markdown",
      "source": [
        "Uma alternativa é usar um **arquivo armazenado no GoogleDrive**. O primeiro passo é a montagem do drive.\n",
        "\n",
        "> Bloco com recuo\n",
        "\n"
      ],
      "metadata": {
        "id": "P5ZgF3q4A0lx"
      }
    },
    {
      "cell_type": "code",
      "source": [
        "from google.colab import drive\n",
        "drive.mount('/content/drive')"
      ],
      "metadata": {
        "colab": {
          "base_uri": "https://localhost:8080/"
        },
        "id": "mKD8tWFEA66c",
        "outputId": "e010392e-e36e-4437-f267-820f4eb55214"
      },
      "execution_count": null,
      "outputs": [
        {
          "output_type": "stream",
          "name": "stdout",
          "text": [
            "Mounted at /content/drive\n"
          ]
        }
      ]
    },
    {
      "cell_type": "markdown",
      "source": [
        "Será exibido um link e uma caixa de texto em que você irá logar em sua conta do Google e após isso uma chave de acesso lhe será fornecida. Volte à aba do Colab e cole essa chave na caixa de texto e em seguida pressione ENTER. Agora acessará qualquer arquivo no Google Drive a partir do diretório /content/drive/My Drive/. Para acessar um arquivo *.csv use este código:"
      ],
      "metadata": {
        "id": "i7xkA8uKBQwE"
      }
    },
    {
      "cell_type": "code",
      "source": [
        "import pandas as pd\n",
        "dataset = pd.read_csv(\"/content/drive/MyDrive/dataset-cvs/MLB_cleaned.csv\")"
      ],
      "metadata": {
        "id": "8uWakxsIBVoT"
      },
      "execution_count": null,
      "outputs": []
    },
    {
      "cell_type": "markdown",
      "source": [
        "# **Importação de Arquivos**"
      ],
      "metadata": {
        "id": "FEfi6RZO1cC2"
      }
    },
    {
      "cell_type": "markdown",
      "source": [
        "No Python há diversas formas de leitura de arquivos. Segue as principais abordagens para leitura de arquivos.\n",
        "\n",
        "**Usando um caminho da URL:**\n"
      ],
      "metadata": {
        "id": "2DvrS6DZ1xxI"
      }
    },
    {
      "cell_type": "code",
      "source": [
        "import pandas as pd\n",
        "dataset = pd.read_csv('https://archive.ics.uci.edu/ml/machine-learning-databases/breast-cancer-wisconsin/breast-cancer-wisconsin.data', header=None)"
      ],
      "metadata": {
        "id": "XL_mMkza11-V"
      },
      "execution_count": null,
      "outputs": []
    },
    {
      "cell_type": "markdown",
      "source": [
        "Usando o **gerenciador de arquivos** do **CoLab**:\n"
      ],
      "metadata": {
        "id": "5V_Badde1_bh"
      }
    },
    {
      "cell_type": "code",
      "source": [
        "from google.colab import files\n",
        "uploaded = files.upload()"
      ],
      "metadata": {
        "id": "WbNza2ae8BYt"
      },
      "execution_count": null,
      "outputs": []
    },
    {
      "cell_type": "code",
      "source": [
        "import io\n",
        "dataset = pd.read_csv(io.BytesIO(uploaded['weight.csv']))"
      ],
      "metadata": {
        "id": "4eFuyb5w8XHI"
      },
      "execution_count": null,
      "outputs": []
    },
    {
      "cell_type": "markdown",
      "source": [
        "Abrir arquivo .cvs no Colab:\n",
        "Usando uma URL é possível baixar um arquivo com o método read_csv da biblioteca pandas para carregar um dataset. Use um link de arquivo, mas nesse caso existe a limitação de que o arquivo deve ter menos de 25MB."
      ],
      "metadata": {
        "id": "j-h1bqbA2itl"
      }
    },
    {
      "cell_type": "code",
      "source": [
        "import pandas as pd\n",
        "dataset = pd.read_csv('https://archive.ics.uci.edu/ml/machine-learning-databases/breast-cancer-wisconsin/breast-cancer-wisconsin.data', header=None)"
      ],
      "metadata": {
        "id": "qtW10waki86F"
      },
      "execution_count": null,
      "outputs": []
    },
    {
      "cell_type": "markdown",
      "source": [
        "Usar um dataset em repositórios de bibliotecas do Python"
      ],
      "metadata": {
        "id": "3uQ4EnGi9KAR"
      }
    },
    {
      "cell_type": "code",
      "source": [
        "from sklearn.datasets import load_iris\n",
        "iris = load_iris()"
      ],
      "metadata": {
        "id": "iLkC6TVcjdAb"
      },
      "execution_count": null,
      "outputs": []
    },
    {
      "cell_type": "markdown",
      "source": [
        "Uma alternativa é usar um arquivo armazenado no GoogleDrive. O primeiro passo é a montagem do drive."
      ],
      "metadata": {
        "id": "vGgWUcxSjhyW"
      }
    },
    {
      "cell_type": "code",
      "source": [
        "from google.colab import drive\n",
        "drive.mount('/content/drive')"
      ],
      "metadata": {
        "id": "HFhZLjAjjklR"
      },
      "execution_count": null,
      "outputs": []
    },
    {
      "cell_type": "markdown",
      "source": [
        "Será exibido um link e uma caixa de texto em que você irá logar em sua conta do Google e após isso uma chave de acesso lhe será fornecida. Volte à aba do Colab e cole essa chave na caixa de texto e em seguida pressione ENTER. Agora acessará qualquer arquivo no Google Drive a partir do diretório /content/drive/MyDrive/. Para acessar um arquivo *.csv use este código:\n",
        "\n"
      ],
      "metadata": {
        "id": "2xoIF-ewj8AB"
      }
    },
    {
      "cell_type": "code",
      "source": [
        "import pandas as pd\n",
        "dataset = pd.read_csv(\"/content/drive/MyDrive/dataset-cvs/MLB_cleaned.csv\")"
      ],
      "metadata": {
        "id": "yqbTsML0j-RT"
      },
      "execution_count": null,
      "outputs": []
    },
    {
      "cell_type": "markdown",
      "source": [
        "# **Exercicios**"
      ],
      "metadata": {
        "id": "xICJhtp8SdcF"
      }
    },
    {
      "cell_type": "markdown",
      "source": [
        "1) Escolha uma das bases dos slides \"Dataset\" e carregue a base de dados para o Colab. Mostre as informações disponíveis em cada coluna e linha dessa base."
      ],
      "metadata": {
        "id": "HnC2pOcXSLt8"
      }
    },
    {
      "cell_type": "code",
      "source": [],
      "metadata": {
        "id": "dIZ3tpl5SbZ0"
      },
      "execution_count": null,
      "outputs": []
    }
  ]
}